{
 "cells": [
  {
   "cell_type": "markdown",
   "id": "7f420058",
   "metadata": {},
   "source": [
    "# Market it"
   ]
  },
  {
   "cell_type": "markdown",
   "id": "9b76c6c0",
   "metadata": {},
   "source": [
    "**Sultan: (analyzing 2 stocks and choosing one for buying)**"
   ]
  },
  {
   "cell_type": "code",
   "execution_count": 1,
   "id": "285f5ace",
   "metadata": {},
   "outputs": [],
   "source": [
    "#pip install ta"
   ]
  },
  {
   "cell_type": "code",
   "execution_count": 2,
   "id": "837cc897",
   "metadata": {},
   "outputs": [],
   "source": [
    "#pip install yahoo_fin"
   ]
  },
  {
   "cell_type": "code",
   "execution_count": 3,
   "id": "0eacc26b",
   "metadata": {},
   "outputs": [],
   "source": [
    "#!pip install ta"
   ]
  },
  {
   "cell_type": "code",
   "execution_count": 4,
   "id": "dcd4da25",
   "metadata": {},
   "outputs": [],
   "source": [
    "#!pip install plotly\n"
   ]
  },
  {
   "cell_type": "code",
   "execution_count": 5,
   "id": "49bfa118",
   "metadata": {},
   "outputs": [],
   "source": [
    "#!pip install pandas-datareader"
   ]
  },
  {
   "cell_type": "code",
   "execution_count": 6,
   "id": "91dd0e69",
   "metadata": {},
   "outputs": [],
   "source": [
    "#!pip install scipy "
   ]
  },
  {
   "cell_type": "code",
   "execution_count": 1,
   "id": "50879606",
   "metadata": {},
   "outputs": [
    {
     "name": "stderr",
     "output_type": "stream",
     "text": [
      "/Users/sultanbeishenkulov/Programming/anaconda/anaconda3/lib/python3.8/site-packages/statsmodels/tools/_testing.py:19: FutureWarning: pandas.util.testing is deprecated. Use the functions in the public API at pandas.testing instead.\n",
      "  import pandas.util.testing as tm\n"
     ]
    }
   ],
   "source": [
    "# load packages\n",
    "import pandas_datareader as web\n",
    "import pandas as pd\n",
    "#import yahoo_fin.stock_info as si\n",
    "import matplotlib.pyplot as plt\n",
    "import seaborn as sns\n",
    "from PIL import Image\n",
    "import plotly.graph_objects as go\n",
    "import ta\n",
    "import datetime as dt\n",
    "from pandas_datareader import data, wb\n",
    "from stldecompose import decompose\n",
    "import numpy as np\n",
    "from scipy.stats import linregress"
   ]
  },
  {
   "cell_type": "code",
   "execution_count": 2,
   "id": "12d5f892",
   "metadata": {},
   "outputs": [
    {
     "data": {
      "text/html": [
       "<div>\n",
       "<style scoped>\n",
       "    .dataframe tbody tr th:only-of-type {\n",
       "        vertical-align: middle;\n",
       "    }\n",
       "\n",
       "    .dataframe tbody tr th {\n",
       "        vertical-align: top;\n",
       "    }\n",
       "\n",
       "    .dataframe thead th {\n",
       "        text-align: right;\n",
       "    }\n",
       "</style>\n",
       "<table border=\"1\" class=\"dataframe\">\n",
       "  <thead>\n",
       "    <tr style=\"text-align: right;\">\n",
       "      <th></th>\n",
       "      <th>High</th>\n",
       "      <th>Low</th>\n",
       "      <th>Open</th>\n",
       "      <th>Close</th>\n",
       "      <th>Volume</th>\n",
       "      <th>Adj Close</th>\n",
       "    </tr>\n",
       "    <tr>\n",
       "      <th>Date</th>\n",
       "      <th></th>\n",
       "      <th></th>\n",
       "      <th></th>\n",
       "      <th></th>\n",
       "      <th></th>\n",
       "      <th></th>\n",
       "    </tr>\n",
       "  </thead>\n",
       "  <tbody>\n",
       "    <tr>\n",
       "      <th>2000-01-03</th>\n",
       "      <td>59.3125</td>\n",
       "      <td>56.00000</td>\n",
       "      <td>58.68750</td>\n",
       "      <td>58.28125</td>\n",
       "      <td>53228400.0</td>\n",
       "      <td>36.861523</td>\n",
       "    </tr>\n",
       "    <tr>\n",
       "      <th>2000-01-04</th>\n",
       "      <td>58.5625</td>\n",
       "      <td>56.12500</td>\n",
       "      <td>56.78125</td>\n",
       "      <td>56.31250</td>\n",
       "      <td>54119000.0</td>\n",
       "      <td>35.616322</td>\n",
       "    </tr>\n",
       "    <tr>\n",
       "      <th>2000-01-05</th>\n",
       "      <td>58.1875</td>\n",
       "      <td>54.68750</td>\n",
       "      <td>55.56250</td>\n",
       "      <td>56.90625</td>\n",
       "      <td>64059600.0</td>\n",
       "      <td>35.991871</td>\n",
       "    </tr>\n",
       "    <tr>\n",
       "      <th>2000-01-06</th>\n",
       "      <td>56.9375</td>\n",
       "      <td>54.18750</td>\n",
       "      <td>56.09375</td>\n",
       "      <td>55.00000</td>\n",
       "      <td>54976600.0</td>\n",
       "      <td>34.786209</td>\n",
       "    </tr>\n",
       "    <tr>\n",
       "      <th>2000-01-07</th>\n",
       "      <td>56.1250</td>\n",
       "      <td>53.65625</td>\n",
       "      <td>54.31250</td>\n",
       "      <td>55.71875</td>\n",
       "      <td>62013600.0</td>\n",
       "      <td>35.240803</td>\n",
       "    </tr>\n",
       "  </tbody>\n",
       "</table>\n",
       "</div>"
      ],
      "text/plain": [
       "               High       Low      Open     Close      Volume  Adj Close\n",
       "Date                                                                    \n",
       "2000-01-03  59.3125  56.00000  58.68750  58.28125  53228400.0  36.861523\n",
       "2000-01-04  58.5625  56.12500  56.78125  56.31250  54119000.0  35.616322\n",
       "2000-01-05  58.1875  54.68750  55.56250  56.90625  64059600.0  35.991871\n",
       "2000-01-06  56.9375  54.18750  56.09375  55.00000  54976600.0  34.786209\n",
       "2000-01-07  56.1250  53.65625  54.31250  55.71875  62013600.0  35.240803"
      ]
     },
     "execution_count": 2,
     "metadata": {},
     "output_type": "execute_result"
    }
   ],
   "source": [
    "start = dt.datetime(2000, 1, 1)\n",
    "end= dt.datetime.now()\n",
    "\n",
    "#pull data from Yahoo Finance\n",
    "asset_apple = \"aapl\"\n",
    "#apple = si.get_data(asset_apple)\n",
    "apple = web.DataReader(asset_apple, 'yahoo', start, end)\n",
    "apple.head()\n",
    "asset_microsoft = \"msft\"\n",
    "#microsoft = si.get_data(asset_microsoft)\n",
    "microsoft = web.DataReader(asset_microsoft, 'yahoo', start, end)\n",
    "microsoft.head()\n",
    "# microsoft = si.get_data(\"msft\")\n",
    "# apple = si.get_data(\"aapl\")"
   ]
  },
  {
   "cell_type": "code",
   "execution_count": 3,
   "id": "04a5f49b",
   "metadata": {},
   "outputs": [
    {
     "data": {
      "text/html": [
       "<div>\n",
       "<style scoped>\n",
       "    .dataframe tbody tr th:only-of-type {\n",
       "        vertical-align: middle;\n",
       "    }\n",
       "\n",
       "    .dataframe tbody tr th {\n",
       "        vertical-align: top;\n",
       "    }\n",
       "\n",
       "    .dataframe thead th {\n",
       "        text-align: right;\n",
       "    }\n",
       "</style>\n",
       "<table border=\"1\" class=\"dataframe\">\n",
       "  <thead>\n",
       "    <tr style=\"text-align: right;\">\n",
       "      <th></th>\n",
       "      <th>High</th>\n",
       "      <th>Low</th>\n",
       "      <th>Open</th>\n",
       "      <th>Close</th>\n",
       "      <th>Volume</th>\n",
       "      <th>Adj Close</th>\n",
       "    </tr>\n",
       "    <tr>\n",
       "      <th>Date</th>\n",
       "      <th></th>\n",
       "      <th></th>\n",
       "      <th></th>\n",
       "      <th></th>\n",
       "      <th></th>\n",
       "      <th></th>\n",
       "    </tr>\n",
       "  </thead>\n",
       "  <tbody>\n",
       "    <tr>\n",
       "      <th>2020-10-01</th>\n",
       "      <td>117.720001</td>\n",
       "      <td>115.830002</td>\n",
       "      <td>117.639999</td>\n",
       "      <td>116.790001</td>\n",
       "      <td>116120400.0</td>\n",
       "      <td>116.043625</td>\n",
       "    </tr>\n",
       "    <tr>\n",
       "      <th>2020-10-02</th>\n",
       "      <td>115.370003</td>\n",
       "      <td>112.220001</td>\n",
       "      <td>112.889999</td>\n",
       "      <td>113.019997</td>\n",
       "      <td>144712000.0</td>\n",
       "      <td>112.297722</td>\n",
       "    </tr>\n",
       "    <tr>\n",
       "      <th>2020-10-05</th>\n",
       "      <td>116.650002</td>\n",
       "      <td>113.550003</td>\n",
       "      <td>113.910004</td>\n",
       "      <td>116.500000</td>\n",
       "      <td>106243800.0</td>\n",
       "      <td>115.755486</td>\n",
       "    </tr>\n",
       "    <tr>\n",
       "      <th>2020-10-06</th>\n",
       "      <td>116.120003</td>\n",
       "      <td>112.250000</td>\n",
       "      <td>115.699997</td>\n",
       "      <td>113.160004</td>\n",
       "      <td>161498200.0</td>\n",
       "      <td>112.436829</td>\n",
       "    </tr>\n",
       "    <tr>\n",
       "      <th>2020-10-07</th>\n",
       "      <td>115.550003</td>\n",
       "      <td>114.129997</td>\n",
       "      <td>114.620003</td>\n",
       "      <td>115.080002</td>\n",
       "      <td>96849000.0</td>\n",
       "      <td>114.344559</td>\n",
       "    </tr>\n",
       "  </tbody>\n",
       "</table>\n",
       "</div>"
      ],
      "text/plain": [
       "                  High         Low        Open       Close       Volume  \\\n",
       "Date                                                                      \n",
       "2020-10-01  117.720001  115.830002  117.639999  116.790001  116120400.0   \n",
       "2020-10-02  115.370003  112.220001  112.889999  113.019997  144712000.0   \n",
       "2020-10-05  116.650002  113.550003  113.910004  116.500000  106243800.0   \n",
       "2020-10-06  116.120003  112.250000  115.699997  113.160004  161498200.0   \n",
       "2020-10-07  115.550003  114.129997  114.620003  115.080002   96849000.0   \n",
       "\n",
       "             Adj Close  \n",
       "Date                    \n",
       "2020-10-01  116.043625  \n",
       "2020-10-02  112.297722  \n",
       "2020-10-05  115.755486  \n",
       "2020-10-06  112.436829  \n",
       "2020-10-07  114.344559  "
      ]
     },
     "execution_count": 3,
     "metadata": {},
     "output_type": "execute_result"
    }
   ],
   "source": [
    "dt_range = pd.date_range(start=\"2020-10-01\", end=\"2020-10-31\")\n",
    "apple_2020_october = apple[apple.index.isin(dt_range)]\n",
    "apple_2020_october.head()\n"
   ]
  },
  {
   "cell_type": "code",
   "execution_count": 4,
   "id": "8146e9d2",
   "metadata": {},
   "outputs": [
    {
     "data": {
      "text/html": [
       "<div>\n",
       "<style scoped>\n",
       "    .dataframe tbody tr th:only-of-type {\n",
       "        vertical-align: middle;\n",
       "    }\n",
       "\n",
       "    .dataframe tbody tr th {\n",
       "        vertical-align: top;\n",
       "    }\n",
       "\n",
       "    .dataframe thead th {\n",
       "        text-align: right;\n",
       "    }\n",
       "</style>\n",
       "<table border=\"1\" class=\"dataframe\">\n",
       "  <thead>\n",
       "    <tr style=\"text-align: right;\">\n",
       "      <th></th>\n",
       "      <th>High</th>\n",
       "      <th>Low</th>\n",
       "      <th>Open</th>\n",
       "      <th>Close</th>\n",
       "      <th>Volume</th>\n",
       "      <th>Adj Close</th>\n",
       "    </tr>\n",
       "    <tr>\n",
       "      <th>Date</th>\n",
       "      <th></th>\n",
       "      <th></th>\n",
       "      <th></th>\n",
       "      <th></th>\n",
       "      <th></th>\n",
       "      <th></th>\n",
       "    </tr>\n",
       "  </thead>\n",
       "  <tbody>\n",
       "    <tr>\n",
       "      <th>2020-10-01</th>\n",
       "      <td>213.990005</td>\n",
       "      <td>211.320007</td>\n",
       "      <td>213.490005</td>\n",
       "      <td>212.460007</td>\n",
       "      <td>27158400.0</td>\n",
       "      <td>210.528198</td>\n",
       "    </tr>\n",
       "    <tr>\n",
       "      <th>2020-10-02</th>\n",
       "      <td>210.990005</td>\n",
       "      <td>205.539993</td>\n",
       "      <td>208.000000</td>\n",
       "      <td>206.190002</td>\n",
       "      <td>33154800.0</td>\n",
       "      <td>204.315186</td>\n",
       "    </tr>\n",
       "    <tr>\n",
       "      <th>2020-10-05</th>\n",
       "      <td>210.410004</td>\n",
       "      <td>206.979996</td>\n",
       "      <td>207.220001</td>\n",
       "      <td>210.380005</td>\n",
       "      <td>21331600.0</td>\n",
       "      <td>208.467117</td>\n",
       "    </tr>\n",
       "    <tr>\n",
       "      <th>2020-10-06</th>\n",
       "      <td>210.179993</td>\n",
       "      <td>204.820007</td>\n",
       "      <td>208.820007</td>\n",
       "      <td>205.910004</td>\n",
       "      <td>28554300.0</td>\n",
       "      <td>204.037735</td>\n",
       "    </tr>\n",
       "    <tr>\n",
       "      <th>2020-10-07</th>\n",
       "      <td>210.110001</td>\n",
       "      <td>206.720001</td>\n",
       "      <td>207.059998</td>\n",
       "      <td>209.830002</td>\n",
       "      <td>25681100.0</td>\n",
       "      <td>207.922104</td>\n",
       "    </tr>\n",
       "  </tbody>\n",
       "</table>\n",
       "</div>"
      ],
      "text/plain": [
       "                  High         Low        Open       Close      Volume  \\\n",
       "Date                                                                     \n",
       "2020-10-01  213.990005  211.320007  213.490005  212.460007  27158400.0   \n",
       "2020-10-02  210.990005  205.539993  208.000000  206.190002  33154800.0   \n",
       "2020-10-05  210.410004  206.979996  207.220001  210.380005  21331600.0   \n",
       "2020-10-06  210.179993  204.820007  208.820007  205.910004  28554300.0   \n",
       "2020-10-07  210.110001  206.720001  207.059998  209.830002  25681100.0   \n",
       "\n",
       "             Adj Close  \n",
       "Date                    \n",
       "2020-10-01  210.528198  \n",
       "2020-10-02  204.315186  \n",
       "2020-10-05  208.467117  \n",
       "2020-10-06  204.037735  \n",
       "2020-10-07  207.922104  "
      ]
     },
     "execution_count": 4,
     "metadata": {},
     "output_type": "execute_result"
    }
   ],
   "source": [
    "microsoft_2020_october = microsoft[microsoft.index.isin(dt_range)]\n",
    "microsoft_2020_october.head()"
   ]
  },
  {
   "cell_type": "code",
   "execution_count": 5,
   "id": "a2d642bc",
   "metadata": {},
   "outputs": [],
   "source": [
    "# apple1 = apple_close[\"2017-01-01\":\"2017-06-01\"]\n",
    "# microsoft1 = microsoft_close[\"2017-01-01\":\"2017-06-01\"]"
   ]
  },
  {
   "cell_type": "code",
   "execution_count": 6,
   "id": "95e3fb5c",
   "metadata": {},
   "outputs": [
    {
     "name": "stdout",
     "output_type": "stream",
     "text": [
      "\n",
      "\n"
     ]
    },
    {
     "data": {
      "image/png": "[encoded data removed]",
      "text/plain": [
       "<Figure size 1152x576 with 2 Axes>"
      ]
     },
     "metadata": {
      "needs_background": "light"
     },
     "output_type": "display_data"
    }
   ],
   "source": [
    "#Apple and Microsoft graph\n",
    "\n",
    "fig, ax = plt.subplots(figsize = (16,8))\n",
    "ax = plt.subplot(2,1,1)\n",
    "plt.plot(apple_2020_october['Close'], label = 'apple', color = \"g\")\n",
    "plt.legend(loc = 0)\n",
    "plt.xlabel(\"years\")\n",
    "plt.ylabel(\"price\")\n",
    "plt.title(\"Apple and Microsoft 01/10/2020 - 01/31/2020\")\n",
    "\n",
    "ax = plt.subplot(2,1,2)\n",
    "plt.plot(microsoft_2020_october['Close'], label = 'microsoft', color = \"r\")\n",
    "plt.legend(loc = 0)\n",
    "plt.xlabel(\"years\")\n",
    "plt.ylabel(\"price\")\n",
    "print(\"\\n\")"
   ]
  },
  {
   "cell_type": "code",
   "execution_count": 7,
   "id": "57a2c0ec",
   "metadata": {},
   "outputs": [
    {
     "name": "stdout",
     "output_type": "stream",
     "text": [
      "Look at the graphs and try to analyze them.How do you think, which stock would perform better inupcomming month?\n",
      "type 'a' for apple and 'b' for microsoft\n",
      " \n",
      "you are wrong because .....\n"
     ]
    }
   ],
   "source": [
    "choose = input(\"Look at the graphs and try to analyze them.How do you think, which stock would perform better in\" +\n",
    "               \"upcomming month?\\ntype 'a' for apple and 'b' for microsoft\\n \")\n",
    "if choose == \"a\":\n",
    "    print(\"you are right!\")\n",
    "else:\n",
    "    print(\"you are wrong because .....\")\n",
    "    answer_image = Image.open(\"sample_answer_pic.png\")\n",
    "    answer_image.show()"
   ]
  },
  {
   "cell_type": "code",
   "execution_count": 8,
   "id": "cb2af7c3",
   "metadata": {},
   "outputs": [],
   "source": [
    "# apple_answer = apple_close[\"2017-06-01\":\"2017-07-01\"]\n",
    "# microsoft_answer = microsoft_close[\"2017-06-01\":\"2017-07-01\"]"
   ]
  },
  {
   "cell_type": "code",
   "execution_count": 9,
   "id": "b5fa74d7",
   "metadata": {},
   "outputs": [],
   "source": [
    "# #Apple and Microsoft graph for upcomming month\n",
    "\n",
    "# fig, ax = plt.subplots(figsize = (16,8))\n",
    "# ax = plt.subplot(2,1,1)\n",
    "# plt.plot(apple_answer, label = 'apple', color = \"g\")\n",
    "# plt.legend(loc = 0)\n",
    "# plt.xlabel(\"years\")\n",
    "# plt.ylabel(\"price\")\n",
    "# plt.title(\"Apple and Microsoft 01/06/2017 - 01/07/20017\")\n",
    "\n",
    "# ax = plt.subplot(2,1,2)\n",
    "# plt.plot(microsoft_answer, label = 'microsoft', color = \"r\")\n",
    "# plt.legend(loc = 0)\n",
    "# plt.xlabel(\"years\")\n",
    "# plt.ylabel(\"price\")\n",
    "# print(\"\\n\")"
   ]
  },
  {
   "cell_type": "code",
   "execution_count": 10,
   "id": "eddd5f71",
   "metadata": {},
   "outputs": [],
   "source": [
    "# #Apple and microsoft prices in one graph\n",
    "# plt.figure(figsize=(10,10))\n",
    "# #figure(figsize=(8, 6), dpi=80)\n",
    "# plt.plot(apple1, 'g', label=\"Apple\")\n",
    "# plt.plot(microsoft1, 'r', label=\"Microsoft\")\n",
    "# plt.xlabel(\"years\")\n",
    "# plt.ylabel(\"price\")\n",
    "# plt.title(\"Apple and Microsoft 12/12/2000 - 12/15/2005\")\n",
    "# plt.legend()\n",
    "# plt.show()\n",
    "\n",
    "\n"
   ]
  },
  {
   "cell_type": "code",
   "execution_count": 11,
   "id": "02ba68ab",
   "metadata": {},
   "outputs": [],
   "source": [
    "# answer_image = Image.open(\"sample_answer_pic.png\")\n",
    "# answer_image.show()"
   ]
  },
  {
   "cell_type": "code",
   "execution_count": 12,
   "id": "aa1107cc",
   "metadata": {},
   "outputs": [],
   "source": [
    "#  from tkinter import *\n",
    "\n",
    "# def alert_popup(title, message, path):\n",
    "#     \"\"\"Generate a pop-up window for special messages.\"\"\"\n",
    "#     root = Tk()\n",
    "#     root.title(title)\n",
    "#     w = 400     # popup window width\n",
    "#     h = 200     # popup window height\n",
    "#     sw = root.winfo_screenwidth()\n",
    "#     sh = root.winfo_screenheight()\n",
    "#     x = (sw - w)/2\n",
    "#     y = (sh - h)/2\n",
    "#     root.geometry('%dx%d+%d+%d' % (w, h, x, y))\n",
    "#     m = message\n",
    "#     m += '\\n'\n",
    "#     m += path\n",
    "#     w = Label(root, text=m, width=120, height=10)\n",
    "#     w.pack()\n",
    "#     b = Button(root, text=\"OK\", command=root.destroy, width=10)\n",
    "#     b.pack()\n",
    "#     mainloop()"
   ]
  },
  {
   "cell_type": "code",
   "execution_count": 13,
   "id": "b0d3a8bb",
   "metadata": {},
   "outputs": [],
   "source": [
    "# alert_popup(title = \"answer\",\n",
    "#             message = \"masd\",\n",
    "#             path = \"/Users/sultanbeishenkulov/Desktop/sample_answer_pic.png\"\n",
    "#            )"
   ]
  },
  {
   "cell_type": "code",
   "execution_count": 20,
   "id": "68463fe1",
   "metadata": {},
   "outputs": [],
   "source": [
    "#apple2 = apple[\"2017-01-01\":\"2017-02-01\"]"
   ]
  },
  {
   "cell_type": "code",
   "execution_count": 17,
   "id": "2f2339d7",
   "metadata": {
    "scrolled": true
   },
   "outputs": [
    {
     "data": {
      "application/vnd.plotly.v1+json": {
       "config": {
        "plotlyServerURL": "https://plot.ly"
       },
       "data": [
        {
         "close": [
          116.79000091552734,
          113.0199966430664,
          116.5,
          113.16000366210938,
          115.08000183105469,
          114.97000122070312,
          116.97000122070312,
          124.4000015258789,
          121.0999984741211,
          121.19000244140625,
          120.70999908447266,
          119.0199966430664,
          115.9800033569336,
          117.51000213623047,
          116.87000274658203,
          115.75,
          115.04000091552734,
          115.05000305175781,
          116.5999984741211,
          111.19999694824219,
          115.31999969482422,
          108.86000061035156
         ],
         "high": [
          117.72000122070312,
          115.37000274658203,
          116.6500015258789,
          116.12000274658203,
          115.55000305175781,
          116.4000015258789,
          117,
          125.18000030517578,
          125.38999938964844,
          123.02999877929688,
          121.19999694824219,
          121.55000305175781,
          120.41999816894531,
          118.9800033569336,
          118.70999908447266,
          118.04000091552734,
          116.55000305175781,
          116.55000305175781,
          117.27999877929688,
          115.43000030517578,
          116.93000030517578,
          111.98999786376953
         ],
         "low": [
          115.83000183105469,
          112.22000122070312,
          113.55000305175781,
          112.25,
          114.12999725341797,
          114.58999633789062,
          114.91999816894531,
          119.27999877929688,
          119.6500015258789,
          119.62000274658203,
          118.1500015258789,
          118.80999755859375,
          115.66000366210938,
          115.62999725341797,
          116.44999694824219,
          114.58999633789062,
          114.27999877929688,
          112.87999725341797,
          114.54000091552734,
          111.0999984741211,
          112.19999694824219,
          107.72000122070312
         ],
         "open": [
          117.63999938964844,
          112.88999938964844,
          113.91000366210938,
          115.69999694824219,
          114.62000274658203,
          116.25,
          115.27999877929688,
          120.05999755859375,
          125.2699966430664,
          121,
          118.72000122070312,
          121.27999877929688,
          119.95999908447266,
          116.19999694824219,
          116.66999816894531,
          117.44999694824219,
          116.38999938964844,
          114.01000213623047,
          115.48999786376953,
          115.05000305175781,
          112.37000274658203,
          111.05999755859375
         ],
         "type": "candlestick",
         "x": [
          "2020-10-01T00:00:00",
          "2020-10-02T00:00:00",
          "2020-10-05T00:00:00",
          "2020-10-06T00:00:00",
          "2020-10-07T00:00:00",
          "2020-10-08T00:00:00",
          "2020-10-09T00:00:00",
          "2020-10-12T00:00:00",
          "2020-10-13T00:00:00",
          "2020-10-14T00:00:00",
          "2020-10-15T00:00:00",
          "2020-10-16T00:00:00",
          "2020-10-19T00:00:00",
          "2020-10-20T00:00:00",
          "2020-10-21T00:00:00",
          "2020-10-22T00:00:00",
          "2020-10-23T00:00:00",
          "2020-10-26T00:00:00",
          "2020-10-27T00:00:00",
          "2020-10-28T00:00:00",
          "2020-10-29T00:00:00",
          "2020-10-30T00:00:00"
         ]
        },
        {
         "line": {
          "color": "black"
         },
         "name": "3-day MA",
         "type": "scatter",
         "x": [
          "2020-10-01T00:00:00",
          "2020-10-02T00:00:00",
          "2020-10-05T00:00:00",
          "2020-10-06T00:00:00",
          "2020-10-07T00:00:00",
          "2020-10-08T00:00:00",
          "2020-10-09T00:00:00",
          "2020-10-12T00:00:00",
          "2020-10-13T00:00:00",
          "2020-10-14T00:00:00",
          "2020-10-15T00:00:00",
          "2020-10-16T00:00:00",
          "2020-10-19T00:00:00",
          "2020-10-20T00:00:00",
          "2020-10-21T00:00:00",
          "2020-10-22T00:00:00",
          "2020-10-23T00:00:00",
          "2020-10-26T00:00:00",
          "2020-10-27T00:00:00",
          "2020-10-28T00:00:00",
          "2020-10-29T00:00:00",
          "2020-10-30T00:00:00"
         ],
         "y": [
          null,
          null,
          115.43666585286458,
          114.22666676839192,
          114.91333516438802,
          114.40333557128906,
          115.67333475748698,
          118.78000132242839,
          120.82333374023438,
          122.23000081380208,
          121,
          120.30666605631511,
          118.56999969482422,
          117.50333404541016,
          116.7866694132487,
          116.71000162760417,
          115.8866678873698,
          115.28000132242839,
          115.56333414713542,
          114.28333282470703,
          114.37333170572917,
          111.79333241780598
         ]
        }
       ],
       "layout": {
        "template": {
         "data": {
          "bar": [
           {
            "error_x": {
             "color": "#2a3f5f"
            },
            "error_y": {
             "color": "#2a3f5f"
            },
            "marker": {
             "line": {
              "color": "#E5ECF6",
              "width": 0.5
             },
             "pattern": {
              "fillmode": "overlay",
              "size": 10,
              "solidity": 0.2
             }
            },
            "type": "bar"
           }
          ],
          "barpolar": [
           {
            "marker": {
             "line": {
              "color": "#E5ECF6",
              "width": 0.5
             },
             "pattern": {
              "fillmode": "overlay",
              "size": 10,
              "solidity": 0.2
             }
            },
            "type": "barpolar"
           }
          ],
          "carpet": [
           {
            "aaxis": {
             "endlinecolor": "#2a3f5f",
             "gridcolor": "white",
             "linecolor": "white",
             "minorgridcolor": "white",
             "startlinecolor": "#2a3f5f"
            },
            "baxis": {
             "endlinecolor": "#2a3f5f",
             "gridcolor": "white",
             "linecolor": "white",
             "minorgridcolor": "white",
             "startlinecolor": "#2a3f5f"
            },
            "type": "carpet"
           }
          ],
          "choropleth": [
           {
            "colorbar": {
             "outlinewidth": 0,
             "ticks": ""
            },
            "type": "choropleth"
           }
          ],
          "contour": [
           {
            "colorbar": {
             "outlinewidth": 0,
             "ticks": ""
            },
            "colorscale": [
             [
              0,
              "#0d0887"
             ],
             [
              0.1111111111111111,
              "#46039f"
             ],
             [
              0.2222222222222222,
              "#7201a8"
             ],
             [
              0.3333333333333333,
              "#9c179e"
             ],
             [
              0.4444444444444444,
              "#bd3786"
             ],
             [
              0.5555555555555556,
              "#d8576b"
             ],
             [
              0.6666666666666666,
              "#ed7953"
             ],
             [
              0.7777777777777778,
              "#fb9f3a"
             ],
             [
              0.8888888888888888,
              "#fdca26"
             ],
             [
              1,
              "#f0f921"
             ]
            ],
            "type": "contour"
           }
          ],
          "contourcarpet": [
           {
            "colorbar": {
             "outlinewidth": 0,
             "ticks": ""
            },
            "type": "contourcarpet"
           }
          ],
          "heatmap": [
           {
            "colorbar": {
             "outlinewidth": 0,
             "ticks": ""
            },
            "colorscale": [
             [
              0,
              "#0d0887"
             ],
             [
              0.1111111111111111,
              "#46039f"
             ],
             [
              0.2222222222222222,
              "#7201a8"
             ],
             [
              0.3333333333333333,
              "#9c179e"
             ],
             [
              0.4444444444444444,
              "#bd3786"
             ],
             [
              0.5555555555555556,
              "#d8576b"
             ],
             [
              0.6666666666666666,
              "#ed7953"
             ],
             [
              0.7777777777777778,
              "#fb9f3a"
             ],
             [
              0.8888888888888888,
              "#fdca26"
             ],
             [
              1,
              "#f0f921"
             ]
            ],
            "type": "heatmap"
           }
          ],
          "heatmapgl": [
           {
            "colorbar": {
             "outlinewidth": 0,
             "ticks": ""
            },
            "colorscale": [
             [
              0,
              "#0d0887"
             ],
             [
              0.1111111111111111,
              "#46039f"
             ],
             [
              0.2222222222222222,
              "#7201a8"
             ],
             [
              0.3333333333333333,
              "#9c179e"
             ],
             [
              0.4444444444444444,
              "#bd3786"
             ],
             [
              0.5555555555555556,
              "#d8576b"
             ],
             [
              0.6666666666666666,
              "#ed7953"
             ],
             [
              0.7777777777777778,
              "#fb9f3a"
             ],
             [
              0.8888888888888888,
              "#fdca26"
             ],
             [
              1,
              "#f0f921"
             ]
            ],
            "type": "heatmapgl"
           }
          ],
          "histogram": [
           {
            "marker": {
             "pattern": {
              "fillmode": "overlay",
              "size": 10,
              "solidity": 0.2
             }
            },
            "type": "histogram"
           }
          ],
          "histogram2d": [
           {
            "colorbar": {
             "outlinewidth": 0,
             "ticks": ""
            },
            "colorscale": [
             [
              0,
              "#0d0887"
             ],
             [
              0.1111111111111111,
              "#46039f"
             ],
             [
              0.2222222222222222,
              "#7201a8"
             ],
             [
              0.3333333333333333,
              "#9c179e"
             ],
             [
              0.4444444444444444,
              "#bd3786"
             ],
             [
              0.5555555555555556,
              "#d8576b"
             ],
             [
              0.6666666666666666,
              "#ed7953"
             ],
             [
              0.7777777777777778,
              "#fb9f3a"
             ],
             [
              0.8888888888888888,
              "#fdca26"
             ],
             [
              1,
              "#f0f921"
             ]
            ],
            "type": "histogram2d"
           }
          ],
          "histogram2dcontour": [
           {
            "colorbar": {
             "outlinewidth": 0,
             "ticks": ""
            },
            "colorscale": [
             [
              0,
              "#0d0887"
             ],
             [
              0.1111111111111111,
              "#46039f"
             ],
             [
              0.2222222222222222,
              "#7201a8"
             ],
             [
              0.3333333333333333,
              "#9c179e"
             ],
             [
              0.4444444444444444,
              "#bd3786"
             ],
             [
              0.5555555555555556,
              "#d8576b"
             ],
             [
              0.6666666666666666,
              "#ed7953"
             ],
             [
              0.7777777777777778,
              "#fb9f3a"
             ],
             [
              0.8888888888888888,
              "#fdca26"
             ],
             [
              1,
              "#f0f921"
             ]
            ],
            "type": "histogram2dcontour"
           }
          ],
          "mesh3d": [
           {
            "colorbar": {
             "outlinewidth": 0,
             "ticks": ""
            },
            "type": "mesh3d"
           }
          ],
          "parcoords": [
           {
            "line": {
             "colorbar": {
              "outlinewidth": 0,
              "ticks": ""
             }
            },
            "type": "parcoords"
           }
          ],
          "pie": [
           {
            "automargin": true,
            "type": "pie"
           }
          ],
          "scatter": [
           {
            "marker": {
             "colorbar": {
              "outlinewidth": 0,
              "ticks": ""
             }
            },
            "type": "scatter"
           }
          ],
          "scatter3d": [
           {
            "line": {
             "colorbar": {
              "outlinewidth": 0,
              "ticks": ""
             }
            },
            "marker": {
             "colorbar": {
              "outlinewidth": 0,
              "ticks": ""
             }
            },
            "type": "scatter3d"
           }
          ],
          "scattercarpet": [
           {
            "marker": {
             "colorbar": {
              "outlinewidth": 0,
              "ticks": ""
             }
            },
            "type": "scattercarpet"
           }
          ],
          "scattergeo": [
           {
            "marker": {
             "colorbar": {
              "outlinewidth": 0,
              "ticks": ""
             }
            },
            "type": "scattergeo"
           }
          ],
          "scattergl": [
           {
            "marker": {
             "colorbar": {
              "outlinewidth": 0,
              "ticks": ""
             }
            },
            "type": "scattergl"
           }
          ],
          "scattermapbox": [
           {
            "marker": {
             "colorbar": {
              "outlinewidth": 0,
              "ticks": ""
             }
            },
            "type": "scattermapbox"
           }
          ],
          "scatterpolar": [
           {
            "marker": {
             "colorbar": {
              "outlinewidth": 0,
              "ticks": ""
             }
            },
            "type": "scatterpolar"
           }
          ],
          "scatterpolargl": [
           {
            "marker": {
             "colorbar": {
              "outlinewidth": 0,
              "ticks": ""
             }
            },
            "type": "scatterpolargl"
           }
          ],
          "scatterternary": [
           {
            "marker": {
             "colorbar": {
              "outlinewidth": 0,
              "ticks": ""
             }
            },
            "type": "scatterternary"
           }
          ],
          "surface": [
           {
            "colorbar": {
             "outlinewidth": 0,
             "ticks": ""
            },
            "colorscale": [
             [
              0,
              "#0d0887"
             ],
             [
              0.1111111111111111,
              "#46039f"
             ],
             [
              0.2222222222222222,
              "#7201a8"
             ],
             [
              0.3333333333333333,
              "#9c179e"
             ],
             [
              0.4444444444444444,
              "#bd3786"
             ],
             [
              0.5555555555555556,
              "#d8576b"
             ],
             [
              0.6666666666666666,
              "#ed7953"
             ],
             [
              0.7777777777777778,
              "#fb9f3a"
             ],
             [
              0.8888888888888888,
              "#fdca26"
             ],
             [
              1,
              "#f0f921"
             ]
            ],
            "type": "surface"
           }
          ],
          "table": [
           {
            "cells": {
             "fill": {
              "color": "#EBF0F8"
             },
             "line": {
              "color": "white"
             }
            },
            "header": {
             "fill": {
              "color": "#C8D4E3"
             },
             "line": {
              "color": "white"
             }
            },
            "type": "table"
           }
          ]
         },
         "layout": {
          "annotationdefaults": {
           "arrowcolor": "#2a3f5f",
           "arrowhead": 0,
           "arrowwidth": 1
          },
          "autotypenumbers": "strict",
          "coloraxis": {
           "colorbar": {
            "outlinewidth": 0,
            "ticks": ""
           }
          },
          "colorscale": {
           "diverging": [
            [
             0,
             "#8e0152"
            ],
            [
             0.1,
             "#c51b7d"
            ],
            [
             0.2,
             "#de77ae"
            ],
            [
             0.3,
             "#f1b6da"
            ],
            [
             0.4,
             "#fde0ef"
            ],
            [
             0.5,
             "#f7f7f7"
            ],
            [
             0.6,
             "#e6f5d0"
            ],
            [
             0.7,
             "#b8e186"
            ],
            [
             0.8,
             "#7fbc41"
            ],
            [
             0.9,
             "#4d9221"
            ],
            [
             1,
             "#276419"
            ]
           ],
           "sequential": [
            [
             0,
             "#0d0887"
            ],
            [
             0.1111111111111111,
             "#46039f"
            ],
            [
             0.2222222222222222,
             "#7201a8"
            ],
            [
             0.3333333333333333,
             "#9c179e"
            ],
            [
             0.4444444444444444,
             "#bd3786"
            ],
            [
             0.5555555555555556,
             "#d8576b"
            ],
            [
             0.6666666666666666,
             "#ed7953"
            ],
            [
             0.7777777777777778,
             "#fb9f3a"
            ],
            [
             0.8888888888888888,
             "#fdca26"
            ],
            [
             1,
             "#f0f921"
            ]
           ],
           "sequentialminus": [
            [
             0,
             "#0d0887"
            ],
            [
             0.1111111111111111,
             "#46039f"
            ],
            [
             0.2222222222222222,
             "#7201a8"
            ],
            [
             0.3333333333333333,
             "#9c179e"
            ],
            [
             0.4444444444444444,
             "#bd3786"
            ],
            [
             0.5555555555555556,
             "#d8576b"
            ],
            [
             0.6666666666666666,
             "#ed7953"
            ],
            [
             0.7777777777777778,
             "#fb9f3a"
            ],
            [
             0.8888888888888888,
             "#fdca26"
            ],
            [
             1,
             "#f0f921"
            ]
           ]
          },
          "colorway": [
           "#636efa",
           "#EF553B",
           "#00cc96",
           "#ab63fa",
           "#FFA15A",
           "#19d3f3",
           "#FF6692",
           "#B6E880",
           "#FF97FF",
           "#FECB52"
          ],
          "font": {
           "color": "#2a3f5f"
          },
          "geo": {
           "bgcolor": "white",
           "lakecolor": "white",
           "landcolor": "#E5ECF6",
           "showlakes": true,
           "showland": true,
           "subunitcolor": "white"
          },
          "hoverlabel": {
           "align": "left"
          },
          "hovermode": "closest",
          "mapbox": {
           "style": "light"
          },
          "paper_bgcolor": "white",
          "plot_bgcolor": "#E5ECF6",
          "polar": {
           "angularaxis": {
            "gridcolor": "white",
            "linecolor": "white",
            "ticks": ""
           },
           "bgcolor": "#E5ECF6",
           "radialaxis": {
            "gridcolor": "white",
            "linecolor": "white",
            "ticks": ""
           }
          },
          "scene": {
           "xaxis": {
            "backgroundcolor": "#E5ECF6",
            "gridcolor": "white",
            "gridwidth": 2,
            "linecolor": "white",
            "showbackground": true,
            "ticks": "",
            "zerolinecolor": "white"
           },
           "yaxis": {
            "backgroundcolor": "#E5ECF6",
            "gridcolor": "white",
            "gridwidth": 2,
            "linecolor": "white",
            "showbackground": true,
            "ticks": "",
            "zerolinecolor": "white"
           },
           "zaxis": {
            "backgroundcolor": "#E5ECF6",
            "gridcolor": "white",
            "gridwidth": 2,
            "linecolor": "white",
            "showbackground": true,
            "ticks": "",
            "zerolinecolor": "white"
           }
          },
          "shapedefaults": {
           "line": {
            "color": "#2a3f5f"
           }
          },
          "ternary": {
           "aaxis": {
            "gridcolor": "white",
            "linecolor": "white",
            "ticks": ""
           },
           "baxis": {
            "gridcolor": "white",
            "linecolor": "white",
            "ticks": ""
           },
           "bgcolor": "#E5ECF6",
           "caxis": {
            "gridcolor": "white",
            "linecolor": "white",
            "ticks": ""
           }
          },
          "title": {
           "x": 0.05
          },
          "xaxis": {
           "automargin": true,
           "gridcolor": "white",
           "linecolor": "white",
           "ticks": "",
           "title": {
            "standoff": 15
           },
           "zerolinecolor": "white",
           "zerolinewidth": 2
          },
          "yaxis": {
           "automargin": true,
           "gridcolor": "white",
           "linecolor": "white",
           "ticks": "",
           "title": {
            "standoff": 15
           },
           "zerolinecolor": "white",
           "zerolinewidth": 2
          }
         }
        },
        "title": {
         "text": "AAPL STOCK PRICE EVOLUTION"
        },
        "xaxis": {
         "rangeslider": {
          "visible": false
         },
         "title": {
          "text": "Date"
         }
        },
        "yaxis": {
         "title": {
          "text": "aapl price (USD)"
         }
        }
       }
      },
      "text/html": [
       "<div>                            <div id=\"b23d7a6f-d9f3-424e-ba79-3ca06b37b76f\" class=\"plotly-graph-div\" style=\"height:525px; width:100%;\"></div>            <script type=\"text/javascript\">                require([\"plotly\"], function(Plotly) {                    window.PLOTLYENV=window.PLOTLYENV || {};                                    if (document.getElementById(\"b23d7a6f-d9f3-424e-ba79-3ca06b37b76f\")) {                    Plotly.newPlot(                        \"b23d7a6f-d9f3-424e-ba79-3ca06b37b76f\",                        [{\"close\":[116.79000091552734,113.0199966430664,116.5,113.16000366210938,115.08000183105469,114.97000122070312,116.97000122070312,124.4000015258789,121.0999984741211,121.19000244140625,120.70999908447266,119.0199966430664,115.9800033569336,117.51000213623047,116.87000274658203,115.75,115.04000091552734,115.05000305175781,116.5999984741211,111.19999694824219,115.31999969482422,108.86000061035156],\"high\":[117.72000122070312,115.37000274658203,116.6500015258789,116.12000274658203,115.55000305175781,116.4000015258789,117.0,125.18000030517578,125.38999938964844,123.02999877929688,121.19999694824219,121.55000305175781,120.41999816894531,118.9800033569336,118.70999908447266,118.04000091552734,116.55000305175781,116.55000305175781,117.27999877929688,115.43000030517578,116.93000030517578,111.98999786376953],\"low\":[115.83000183105469,112.22000122070312,113.55000305175781,112.25,114.12999725341797,114.58999633789062,114.91999816894531,119.27999877929688,119.6500015258789,119.62000274658203,118.1500015258789,118.80999755859375,115.66000366210938,115.62999725341797,116.44999694824219,114.58999633789062,114.27999877929688,112.87999725341797,114.54000091552734,111.0999984741211,112.19999694824219,107.72000122070312],\"open\":[117.63999938964844,112.88999938964844,113.91000366210938,115.69999694824219,114.62000274658203,116.25,115.27999877929688,120.05999755859375,125.2699966430664,121.0,118.72000122070312,121.27999877929688,119.95999908447266,116.19999694824219,116.66999816894531,117.44999694824219,116.38999938964844,114.01000213623047,115.48999786376953,115.05000305175781,112.37000274658203,111.05999755859375],\"type\":\"candlestick\",\"x\":[\"2020-10-01T00:00:00\",\"2020-10-02T00:00:00\",\"2020-10-05T00:00:00\",\"2020-10-06T00:00:00\",\"2020-10-07T00:00:00\",\"2020-10-08T00:00:00\",\"2020-10-09T00:00:00\",\"2020-10-12T00:00:00\",\"2020-10-13T00:00:00\",\"2020-10-14T00:00:00\",\"2020-10-15T00:00:00\",\"2020-10-16T00:00:00\",\"2020-10-19T00:00:00\",\"2020-10-20T00:00:00\",\"2020-10-21T00:00:00\",\"2020-10-22T00:00:00\",\"2020-10-23T00:00:00\",\"2020-10-26T00:00:00\",\"2020-10-27T00:00:00\",\"2020-10-28T00:00:00\",\"2020-10-29T00:00:00\",\"2020-10-30T00:00:00\"]},{\"line\":{\"color\":\"black\"},\"name\":\"3-day MA\",\"type\":\"scatter\",\"x\":[\"2020-10-01T00:00:00\",\"2020-10-02T00:00:00\",\"2020-10-05T00:00:00\",\"2020-10-06T00:00:00\",\"2020-10-07T00:00:00\",\"2020-10-08T00:00:00\",\"2020-10-09T00:00:00\",\"2020-10-12T00:00:00\",\"2020-10-13T00:00:00\",\"2020-10-14T00:00:00\",\"2020-10-15T00:00:00\",\"2020-10-16T00:00:00\",\"2020-10-19T00:00:00\",\"2020-10-20T00:00:00\",\"2020-10-21T00:00:00\",\"2020-10-22T00:00:00\",\"2020-10-23T00:00:00\",\"2020-10-26T00:00:00\",\"2020-10-27T00:00:00\",\"2020-10-28T00:00:00\",\"2020-10-29T00:00:00\",\"2020-10-30T00:00:00\"],\"y\":[null,null,115.43666585286458,114.22666676839192,114.91333516438802,114.40333557128906,115.67333475748698,118.78000132242839,120.82333374023438,122.23000081380208,121.0,120.30666605631511,118.56999969482422,117.50333404541016,116.7866694132487,116.71000162760417,115.8866678873698,115.28000132242839,115.56333414713542,114.28333282470703,114.37333170572917,111.79333241780598]}],                        {\"template\":{\"data\":{\"bar\":[{\"error_x\":{\"color\":\"#2a3f5f\"},\"error_y\":{\"color\":\"#2a3f5f\"},\"marker\":{\"line\":{\"color\":\"#E5ECF6\",\"width\":0.5},\"pattern\":{\"fillmode\":\"overlay\",\"size\":10,\"solidity\":0.2}},\"type\":\"bar\"}],\"barpolar\":[{\"marker\":{\"line\":{\"color\":\"#E5ECF6\",\"width\":0.5},\"pattern\":{\"fillmode\":\"overlay\",\"size\":10,\"solidity\":0.2}},\"type\":\"barpolar\"}],\"carpet\":[{\"aaxis\":{\"endlinecolor\":\"#2a3f5f\",\"gridcolor\":\"white\",\"linecolor\":\"white\",\"minorgridcolor\":\"white\",\"startlinecolor\":\"#2a3f5f\"},\"baxis\":{\"endlinecolor\":\"#2a3f5f\",\"gridcolor\":\"white\",\"linecolor\":\"white\",\"minorgridcolor\":\"white\",\"startlinecolor\":\"#2a3f5f\"},\"type\":\"carpet\"}],\"choropleth\":[{\"colorbar\":{\"outlinewidth\":0,\"ticks\":\"\"},\"type\":\"choropleth\"}],\"contour\":[{\"colorbar\":{\"outlinewidth\":0,\"ticks\":\"\"},\"colorscale\":[[0.0,\"#0d0887\"],[0.1111111111111111,\"#46039f\"],[0.2222222222222222,\"#7201a8\"],[0.3333333333333333,\"#9c179e\"],[0.4444444444444444,\"#bd3786\"],[0.5555555555555556,\"#d8576b\"],[0.6666666666666666,\"#ed7953\"],[0.7777777777777778,\"#fb9f3a\"],[0.8888888888888888,\"#fdca26\"],[1.0,\"#f0f921\"]],\"type\":\"contour\"}],\"contourcarpet\":[{\"colorbar\":{\"outlinewidth\":0,\"ticks\":\"\"},\"type\":\"contourcarpet\"}],\"heatmap\":[{\"colorbar\":{\"outlinewidth\":0,\"ticks\":\"\"},\"colorscale\":[[0.0,\"#0d0887\"],[0.1111111111111111,\"#46039f\"],[0.2222222222222222,\"#7201a8\"],[0.3333333333333333,\"#9c179e\"],[0.4444444444444444,\"#bd3786\"],[0.5555555555555556,\"#d8576b\"],[0.6666666666666666,\"#ed7953\"],[0.7777777777777778,\"#fb9f3a\"],[0.8888888888888888,\"#fdca26\"],[1.0,\"#f0f921\"]],\"type\":\"heatmap\"}],\"heatmapgl\":[{\"colorbar\":{\"outlinewidth\":0,\"ticks\":\"\"},\"colorscale\":[[0.0,\"#0d0887\"],[0.1111111111111111,\"#46039f\"],[0.2222222222222222,\"#7201a8\"],[0.3333333333333333,\"#9c179e\"],[0.4444444444444444,\"#bd3786\"],[0.5555555555555556,\"#d8576b\"],[0.6666666666666666,\"#ed7953\"],[0.7777777777777778,\"#fb9f3a\"],[0.8888888888888888,\"#fdca26\"],[1.0,\"#f0f921\"]],\"type\":\"heatmapgl\"}],\"histogram\":[{\"marker\":{\"pattern\":{\"fillmode\":\"overlay\",\"size\":10,\"solidity\":0.2}},\"type\":\"histogram\"}],\"histogram2d\":[{\"colorbar\":{\"outlinewidth\":0,\"ticks\":\"\"},\"colorscale\":[[0.0,\"#0d0887\"],[0.1111111111111111,\"#46039f\"],[0.2222222222222222,\"#7201a8\"],[0.3333333333333333,\"#9c179e\"],[0.4444444444444444,\"#bd3786\"],[0.5555555555555556,\"#d8576b\"],[0.6666666666666666,\"#ed7953\"],[0.7777777777777778,\"#fb9f3a\"],[0.8888888888888888,\"#fdca26\"],[1.0,\"#f0f921\"]],\"type\":\"histogram2d\"}],\"histogram2dcontour\":[{\"colorbar\":{\"outlinewidth\":0,\"ticks\":\"\"},\"colorscale\":[[0.0,\"#0d0887\"],[0.1111111111111111,\"#46039f\"],[0.2222222222222222,\"#7201a8\"],[0.3333333333333333,\"#9c179e\"],[0.4444444444444444,\"#bd3786\"],[0.5555555555555556,\"#d8576b\"],[0.6666666666666666,\"#ed7953\"],[0.7777777777777778,\"#fb9f3a\"],[0.8888888888888888,\"#fdca26\"],[1.0,\"#f0f921\"]],\"type\":\"histogram2dcontour\"}],\"mesh3d\":[{\"colorbar\":{\"outlinewidth\":0,\"ticks\":\"\"},\"type\":\"mesh3d\"}],\"parcoords\":[{\"line\":{\"colorbar\":{\"outlinewidth\":0,\"ticks\":\"\"}},\"type\":\"parcoords\"}],\"pie\":[{\"automargin\":true,\"type\":\"pie\"}],\"scatter\":[{\"marker\":{\"colorbar\":{\"outlinewidth\":0,\"ticks\":\"\"}},\"type\":\"scatter\"}],\"scatter3d\":[{\"line\":{\"colorbar\":{\"outlinewidth\":0,\"ticks\":\"\"}},\"marker\":{\"colorbar\":{\"outlinewidth\":0,\"ticks\":\"\"}},\"type\":\"scatter3d\"}],\"scattercarpet\":[{\"marker\":{\"colorbar\":{\"outlinewidth\":0,\"ticks\":\"\"}},\"type\":\"scattercarpet\"}],\"scattergeo\":[{\"marker\":{\"colorbar\":{\"outlinewidth\":0,\"ticks\":\"\"}},\"type\":\"scattergeo\"}],\"scattergl\":[{\"marker\":{\"colorbar\":{\"outlinewidth\":0,\"ticks\":\"\"}},\"type\":\"scattergl\"}],\"scattermapbox\":[{\"marker\":{\"colorbar\":{\"outlinewidth\":0,\"ticks\":\"\"}},\"type\":\"scattermapbox\"}],\"scatterpolar\":[{\"marker\":{\"colorbar\":{\"outlinewidth\":0,\"ticks\":\"\"}},\"type\":\"scatterpolar\"}],\"scatterpolargl\":[{\"marker\":{\"colorbar\":{\"outlinewidth\":0,\"ticks\":\"\"}},\"type\":\"scatterpolargl\"}],\"scatterternary\":[{\"marker\":{\"colorbar\":{\"outlinewidth\":0,\"ticks\":\"\"}},\"type\":\"scatterternary\"}],\"surface\":[{\"colorbar\":{\"outlinewidth\":0,\"ticks\":\"\"},\"colorscale\":[[0.0,\"#0d0887\"],[0.1111111111111111,\"#46039f\"],[0.2222222222222222,\"#7201a8\"],[0.3333333333333333,\"#9c179e\"],[0.4444444444444444,\"#bd3786\"],[0.5555555555555556,\"#d8576b\"],[0.6666666666666666,\"#ed7953\"],[0.7777777777777778,\"#fb9f3a\"],[0.8888888888888888,\"#fdca26\"],[1.0,\"#f0f921\"]],\"type\":\"surface\"}],\"table\":[{\"cells\":{\"fill\":{\"color\":\"#EBF0F8\"},\"line\":{\"color\":\"white\"}},\"header\":{\"fill\":{\"color\":\"#C8D4E3\"},\"line\":{\"color\":\"white\"}},\"type\":\"table\"}]},\"layout\":{\"annotationdefaults\":{\"arrowcolor\":\"#2a3f5f\",\"arrowhead\":0,\"arrowwidth\":1},\"autotypenumbers\":\"strict\",\"coloraxis\":{\"colorbar\":{\"outlinewidth\":0,\"ticks\":\"\"}},\"colorscale\":{\"diverging\":[[0,\"#8e0152\"],[0.1,\"#c51b7d\"],[0.2,\"#de77ae\"],[0.3,\"#f1b6da\"],[0.4,\"#fde0ef\"],[0.5,\"#f7f7f7\"],[0.6,\"#e6f5d0\"],[0.7,\"#b8e186\"],[0.8,\"#7fbc41\"],[0.9,\"#4d9221\"],[1,\"#276419\"]],\"sequential\":[[0.0,\"#0d0887\"],[0.1111111111111111,\"#46039f\"],[0.2222222222222222,\"#7201a8\"],[0.3333333333333333,\"#9c179e\"],[0.4444444444444444,\"#bd3786\"],[0.5555555555555556,\"#d8576b\"],[0.6666666666666666,\"#ed7953\"],[0.7777777777777778,\"#fb9f3a\"],[0.8888888888888888,\"#fdca26\"],[1.0,\"#f0f921\"]],\"sequentialminus\":[[0.0,\"#0d0887\"],[0.1111111111111111,\"#46039f\"],[0.2222222222222222,\"#7201a8\"],[0.3333333333333333,\"#9c179e\"],[0.4444444444444444,\"#bd3786\"],[0.5555555555555556,\"#d8576b\"],[0.6666666666666666,\"#ed7953\"],[0.7777777777777778,\"#fb9f3a\"],[0.8888888888888888,\"#fdca26\"],[1.0,\"#f0f921\"]]},\"colorway\":[\"#636efa\",\"#EF553B\",\"#00cc96\",\"#ab63fa\",\"#FFA15A\",\"#19d3f3\",\"#FF6692\",\"#B6E880\",\"#FF97FF\",\"#FECB52\"],\"font\":{\"color\":\"#2a3f5f\"},\"geo\":{\"bgcolor\":\"white\",\"lakecolor\":\"white\",\"landcolor\":\"#E5ECF6\",\"showlakes\":true,\"showland\":true,\"subunitcolor\":\"white\"},\"hoverlabel\":{\"align\":\"left\"},\"hovermode\":\"closest\",\"mapbox\":{\"style\":\"light\"},\"paper_bgcolor\":\"white\",\"plot_bgcolor\":\"#E5ECF6\",\"polar\":{\"angularaxis\":{\"gridcolor\":\"white\",\"linecolor\":\"white\",\"ticks\":\"\"},\"bgcolor\":\"#E5ECF6\",\"radialaxis\":{\"gridcolor\":\"white\",\"linecolor\":\"white\",\"ticks\":\"\"}},\"scene\":{\"xaxis\":{\"backgroundcolor\":\"#E5ECF6\",\"gridcolor\":\"white\",\"gridwidth\":2,\"linecolor\":\"white\",\"showbackground\":true,\"ticks\":\"\",\"zerolinecolor\":\"white\"},\"yaxis\":{\"backgroundcolor\":\"#E5ECF6\",\"gridcolor\":\"white\",\"gridwidth\":2,\"linecolor\":\"white\",\"showbackground\":true,\"ticks\":\"\",\"zerolinecolor\":\"white\"},\"zaxis\":{\"backgroundcolor\":\"#E5ECF6\",\"gridcolor\":\"white\",\"gridwidth\":2,\"linecolor\":\"white\",\"showbackground\":true,\"ticks\":\"\",\"zerolinecolor\":\"white\"}},\"shapedefaults\":{\"line\":{\"color\":\"#2a3f5f\"}},\"ternary\":{\"aaxis\":{\"gridcolor\":\"white\",\"linecolor\":\"white\",\"ticks\":\"\"},\"baxis\":{\"gridcolor\":\"white\",\"linecolor\":\"white\",\"ticks\":\"\"},\"bgcolor\":\"#E5ECF6\",\"caxis\":{\"gridcolor\":\"white\",\"linecolor\":\"white\",\"ticks\":\"\"}},\"title\":{\"x\":0.05},\"xaxis\":{\"automargin\":true,\"gridcolor\":\"white\",\"linecolor\":\"white\",\"ticks\":\"\",\"title\":{\"standoff\":15},\"zerolinecolor\":\"white\",\"zerolinewidth\":2},\"yaxis\":{\"automargin\":true,\"gridcolor\":\"white\",\"linecolor\":\"white\",\"ticks\":\"\",\"title\":{\"standoff\":15},\"zerolinecolor\":\"white\",\"zerolinewidth\":2}}},\"title\":{\"text\":\"AAPL STOCK PRICE EVOLUTION\"},\"xaxis\":{\"rangeslider\":{\"visible\":false},\"title\":{\"text\":\"Date\"}},\"yaxis\":{\"title\":{\"text\":\"aapl price (USD)\"}}},                        {\"responsive\": true}                    ).then(function(){\n",
       "                            \n",
       "var gd = document.getElementById('b23d7a6f-d9f3-424e-ba79-3ca06b37b76f');\n",
       "var x = new MutationObserver(function (mutations, observer) {{\n",
       "        var display = window.getComputedStyle(gd).display;\n",
       "        if (!display || display === 'none') {{\n",
       "            console.log([gd, 'removed!']);\n",
       "            Plotly.purge(gd);\n",
       "            observer.disconnect();\n",
       "        }}\n",
       "}});\n",
       "\n",
       "// Listen for the removal of the full notebook cells\n",
       "var notebookContainer = gd.closest('#notebook-container');\n",
       "if (notebookContainer) {{\n",
       "    x.observe(notebookContainer, {childList: true});\n",
       "}}\n",
       "\n",
       "// Listen for the clearing of the current output cell\n",
       "var outputEl = gd.closest('.output');\n",
       "if (outputEl) {{\n",
       "    x.observe(outputEl, {childList: true});\n",
       "}}\n",
       "\n",
       "                        })                };                });            </script>        </div>"
      ]
     },
     "metadata": {},
     "output_type": "display_data"
    },
    {
     "data": {
      "application/vnd.plotly.v1+json": {
       "config": {
        "plotlyServerURL": "https://plot.ly"
       },
       "data": [
        {
         "close": [
          212.4600067138672,
          206.19000244140625,
          210.3800048828125,
          205.91000366210938,
          209.8300018310547,
          210.5800018310547,
          215.80999755859375,
          221.39999389648438,
          222.86000061035156,
          220.86000061035156,
          219.66000366210938,
          219.66000366210938,
          214.22000122070312,
          214.64999389648438,
          214.8000030517578,
          214.88999938964844,
          216.22999572753906,
          210.0800018310547,
          213.25,
          202.67999267578125,
          204.72000122070312,
          202.47000122070312
         ],
         "high": [
          213.99000549316406,
          210.99000549316406,
          210.41000366210938,
          210.17999267578125,
          210.11000061035156,
          211.19000244140625,
          215.86000061035156,
          223.86000061035156,
          225.2100067138672,
          224.22000122070312,
          220.36000061035156,
          222.2899932861328,
          222.3000030517578,
          217.3699951171875,
          216.9199981689453,
          216.05999755859375,
          216.27999877929688,
          216.33999633789062,
          214.6699981689453,
          208.83999633789062,
          207.36000061035156,
          204.2899932861328
         ],
         "low": [
          211.32000732421875,
          205.5399932861328,
          206.97999572753906,
          204.82000732421875,
          206.72000122070312,
          208.32000732421875,
          211.22999572753906,
          216.80999755859375,
          220.42999267578125,
          219.1300048828125,
          216.00999450683594,
          219.32000732421875,
          213.72000122070312,
          213.08999633789062,
          213.1199951171875,
          211.6999969482422,
          213.16000366210938,
          208.10000610351562,
          210.3300018310547,
          202.10000610351562,
          203.3699951171875,
          199.6199951171875
         ],
         "open": [
          213.49000549316406,
          208,
          207.22000122070312,
          208.82000732421875,
          207.05999755859375,
          210.50999450683594,
          211.22999572753906,
          218.7899932861328,
          222.72000122070312,
          223,
          217.10000610351562,
          220.14999389648438,
          220.4199981689453,
          215.8000030517578,
          213.1199951171875,
          213.92999267578125,
          215.02999877929688,
          213.85000610351562,
          211.58999633789062,
          207.6699981689453,
          204.07000732421875,
          203.5
         ],
         "type": "candlestick",
         "x": [
          "2020-10-01T00:00:00",
          "2020-10-02T00:00:00",
          "2020-10-05T00:00:00",
          "2020-10-06T00:00:00",
          "2020-10-07T00:00:00",
          "2020-10-08T00:00:00",
          "2020-10-09T00:00:00",
          "2020-10-12T00:00:00",
          "2020-10-13T00:00:00",
          "2020-10-14T00:00:00",
          "2020-10-15T00:00:00",
          "2020-10-16T00:00:00",
          "2020-10-19T00:00:00",
          "2020-10-20T00:00:00",
          "2020-10-21T00:00:00",
          "2020-10-22T00:00:00",
          "2020-10-23T00:00:00",
          "2020-10-26T00:00:00",
          "2020-10-27T00:00:00",
          "2020-10-28T00:00:00",
          "2020-10-29T00:00:00",
          "2020-10-30T00:00:00"
         ]
        },
        {
         "line": {
          "color": "black"
         },
         "name": "3-day MA",
         "type": "scatter",
         "x": [
          "2020-10-01T00:00:00",
          "2020-10-02T00:00:00",
          "2020-10-05T00:00:00",
          "2020-10-06T00:00:00",
          "2020-10-07T00:00:00",
          "2020-10-08T00:00:00",
          "2020-10-09T00:00:00",
          "2020-10-12T00:00:00",
          "2020-10-13T00:00:00",
          "2020-10-14T00:00:00",
          "2020-10-15T00:00:00",
          "2020-10-16T00:00:00",
          "2020-10-19T00:00:00",
          "2020-10-20T00:00:00",
          "2020-10-21T00:00:00",
          "2020-10-22T00:00:00",
          "2020-10-23T00:00:00",
          "2020-10-26T00:00:00",
          "2020-10-27T00:00:00",
          "2020-10-28T00:00:00",
          "2020-10-29T00:00:00",
          "2020-10-30T00:00:00"
         ],
         "y": [
          null,
          null,
          209.67667134602866,
          207.49333699544272,
          208.70667012532553,
          208.7733357747396,
          212.07333374023438,
          215.92999776204428,
          220.02333068847656,
          221.7066650390625,
          221.12666829427084,
          220.06000264485678,
          217.84666951497397,
          216.17666625976562,
          214.5566660563151,
          214.77999877929688,
          215.3066660563151,
          213.73333231608072,
          213.1866658528646,
          208.6699981689453,
          206.88333129882812,
          203.28999837239584
         ]
        }
       ],
       "layout": {
        "template": {
         "data": {
          "bar": [
           {
            "error_x": {
             "color": "#2a3f5f"
            },
            "error_y": {
             "color": "#2a3f5f"
            },
            "marker": {
             "line": {
              "color": "#E5ECF6",
              "width": 0.5
             },
             "pattern": {
              "fillmode": "overlay",
              "size": 10,
              "solidity": 0.2
             }
            },
            "type": "bar"
           }
          ],
          "barpolar": [
           {
            "marker": {
             "line": {
              "color": "#E5ECF6",
              "width": 0.5
             },
             "pattern": {
              "fillmode": "overlay",
              "size": 10,
              "solidity": 0.2
             }
            },
            "type": "barpolar"
           }
          ],
          "carpet": [
           {
            "aaxis": {
             "endlinecolor": "#2a3f5f",
             "gridcolor": "white",
             "linecolor": "white",
             "minorgridcolor": "white",
             "startlinecolor": "#2a3f5f"
            },
            "baxis": {
             "endlinecolor": "#2a3f5f",
             "gridcolor": "white",
             "linecolor": "white",
             "minorgridcolor": "white",
             "startlinecolor": "#2a3f5f"
            },
            "type": "carpet"
           }
          ],
          "choropleth": [
           {
            "colorbar": {
             "outlinewidth": 0,
             "ticks": ""
            },
            "type": "choropleth"
           }
          ],
          "contour": [
           {
            "colorbar": {
             "outlinewidth": 0,
             "ticks": ""
            },
            "colorscale": [
             [
              0,
              "#0d0887"
             ],
             [
              0.1111111111111111,
              "#46039f"
             ],
             [
              0.2222222222222222,
              "#7201a8"
             ],
             [
              0.3333333333333333,
              "#9c179e"
             ],
             [
              0.4444444444444444,
              "#bd3786"
             ],
             [
              0.5555555555555556,
              "#d8576b"
             ],
             [
              0.6666666666666666,
              "#ed7953"
             ],
             [
              0.7777777777777778,
              "#fb9f3a"
             ],
             [
              0.8888888888888888,
              "#fdca26"
             ],
             [
              1,
              "#f0f921"
             ]
            ],
            "type": "contour"
           }
          ],
          "contourcarpet": [
           {
            "colorbar": {
             "outlinewidth": 0,
             "ticks": ""
            },
            "type": "contourcarpet"
           }
          ],
          "heatmap": [
           {
            "colorbar": {
             "outlinewidth": 0,
             "ticks": ""
            },
            "colorscale": [
             [
              0,
              "#0d0887"
             ],
             [
              0.1111111111111111,
              "#46039f"
             ],
             [
              0.2222222222222222,
              "#7201a8"
             ],
             [
              0.3333333333333333,
              "#9c179e"
             ],
             [
              0.4444444444444444,
              "#bd3786"
             ],
             [
              0.5555555555555556,
              "#d8576b"
             ],
             [
              0.6666666666666666,
              "#ed7953"
             ],
             [
              0.7777777777777778,
              "#fb9f3a"
             ],
             [
              0.8888888888888888,
              "#fdca26"
             ],
             [
              1,
              "#f0f921"
             ]
            ],
            "type": "heatmap"
           }
          ],
          "heatmapgl": [
           {
            "colorbar": {
             "outlinewidth": 0,
             "ticks": ""
            },
            "colorscale": [
             [
              0,
              "#0d0887"
             ],
             [
              0.1111111111111111,
              "#46039f"
             ],
             [
              0.2222222222222222,
              "#7201a8"
             ],
             [
              0.3333333333333333,
              "#9c179e"
             ],
             [
              0.4444444444444444,
              "#bd3786"
             ],
             [
              0.5555555555555556,
              "#d8576b"
             ],
             [
              0.6666666666666666,
              "#ed7953"
             ],
             [
              0.7777777777777778,
              "#fb9f3a"
             ],
             [
              0.8888888888888888,
              "#fdca26"
             ],
             [
              1,
              "#f0f921"
             ]
            ],
            "type": "heatmapgl"
           }
          ],
          "histogram": [
           {
            "marker": {
             "pattern": {
              "fillmode": "overlay",
              "size": 10,
              "solidity": 0.2
             }
            },
            "type": "histogram"
           }
          ],
          "histogram2d": [
           {
            "colorbar": {
             "outlinewidth": 0,
             "ticks": ""
            },
            "colorscale": [
             [
              0,
              "#0d0887"
             ],
             [
              0.1111111111111111,
              "#46039f"
             ],
             [
              0.2222222222222222,
              "#7201a8"
             ],
             [
              0.3333333333333333,
              "#9c179e"
             ],
             [
              0.4444444444444444,
              "#bd3786"
             ],
             [
              0.5555555555555556,
              "#d8576b"
             ],
             [
              0.6666666666666666,
              "#ed7953"
             ],
             [
              0.7777777777777778,
              "#fb9f3a"
             ],
             [
              0.8888888888888888,
              "#fdca26"
             ],
             [
              1,
              "#f0f921"
             ]
            ],
            "type": "histogram2d"
           }
          ],
          "histogram2dcontour": [
           {
            "colorbar": {
             "outlinewidth": 0,
             "ticks": ""
            },
            "colorscale": [
             [
              0,
              "#0d0887"
             ],
             [
              0.1111111111111111,
              "#46039f"
             ],
             [
              0.2222222222222222,
              "#7201a8"
             ],
             [
              0.3333333333333333,
              "#9c179e"
             ],
             [
              0.4444444444444444,
              "#bd3786"
             ],
             [
              0.5555555555555556,
              "#d8576b"
             ],
             [
              0.6666666666666666,
              "#ed7953"
             ],
             [
              0.7777777777777778,
              "#fb9f3a"
             ],
             [
              0.8888888888888888,
              "#fdca26"
             ],
             [
              1,
              "#f0f921"
             ]
            ],
            "type": "histogram2dcontour"
           }
          ],
          "mesh3d": [
           {
            "colorbar": {
             "outlinewidth": 0,
             "ticks": ""
            },
            "type": "mesh3d"
           }
          ],
          "parcoords": [
           {
            "line": {
             "colorbar": {
              "outlinewidth": 0,
              "ticks": ""
             }
            },
            "type": "parcoords"
           }
          ],
          "pie": [
           {
            "automargin": true,
            "type": "pie"
           }
          ],
          "scatter": [
           {
            "marker": {
             "colorbar": {
              "outlinewidth": 0,
              "ticks": ""
             }
            },
            "type": "scatter"
           }
          ],
          "scatter3d": [
           {
            "line": {
             "colorbar": {
              "outlinewidth": 0,
              "ticks": ""
             }
            },
            "marker": {
             "colorbar": {
              "outlinewidth": 0,
              "ticks": ""
             }
            },
            "type": "scatter3d"
           }
          ],
          "scattercarpet": [
           {
            "marker": {
             "colorbar": {
              "outlinewidth": 0,
              "ticks": ""
             }
            },
            "type": "scattercarpet"
           }
          ],
          "scattergeo": [
           {
            "marker": {
             "colorbar": {
              "outlinewidth": 0,
              "ticks": ""
             }
            },
            "type": "scattergeo"
           }
          ],
          "scattergl": [
           {
            "marker": {
             "colorbar": {
              "outlinewidth": 0,
              "ticks": ""
             }
            },
            "type": "scattergl"
           }
          ],
          "scattermapbox": [
           {
            "marker": {
             "colorbar": {
              "outlinewidth": 0,
              "ticks": ""
             }
            },
            "type": "scattermapbox"
           }
          ],
          "scatterpolar": [
           {
            "marker": {
             "colorbar": {
              "outlinewidth": 0,
              "ticks": ""
             }
            },
            "type": "scatterpolar"
           }
          ],
          "scatterpolargl": [
           {
            "marker": {
             "colorbar": {
              "outlinewidth": 0,
              "ticks": ""
             }
            },
            "type": "scatterpolargl"
           }
          ],
          "scatterternary": [
           {
            "marker": {
             "colorbar": {
              "outlinewidth": 0,
              "ticks": ""
             }
            },
            "type": "scatterternary"
           }
          ],
          "surface": [
           {
            "colorbar": {
             "outlinewidth": 0,
             "ticks": ""
            },
            "colorscale": [
             [
              0,
              "#0d0887"
             ],
             [
              0.1111111111111111,
              "#46039f"
             ],
             [
              0.2222222222222222,
              "#7201a8"
             ],
             [
              0.3333333333333333,
              "#9c179e"
             ],
             [
              0.4444444444444444,
              "#bd3786"
             ],
             [
              0.5555555555555556,
              "#d8576b"
             ],
             [
              0.6666666666666666,
              "#ed7953"
             ],
             [
              0.7777777777777778,
              "#fb9f3a"
             ],
             [
              0.8888888888888888,
              "#fdca26"
             ],
             [
              1,
              "#f0f921"
             ]
            ],
            "type": "surface"
           }
          ],
          "table": [
           {
            "cells": {
             "fill": {
              "color": "#EBF0F8"
             },
             "line": {
              "color": "white"
             }
            },
            "header": {
             "fill": {
              "color": "#C8D4E3"
             },
             "line": {
              "color": "white"
             }
            },
            "type": "table"
           }
          ]
         },
         "layout": {
          "annotationdefaults": {
           "arrowcolor": "#2a3f5f",
           "arrowhead": 0,
           "arrowwidth": 1
          },
          "autotypenumbers": "strict",
          "coloraxis": {
           "colorbar": {
            "outlinewidth": 0,
            "ticks": ""
           }
          },
          "colorscale": {
           "diverging": [
            [
             0,
             "#8e0152"
            ],
            [
             0.1,
             "#c51b7d"
            ],
            [
             0.2,
             "#de77ae"
            ],
            [
             0.3,
             "#f1b6da"
            ],
            [
             0.4,
             "#fde0ef"
            ],
            [
             0.5,
             "#f7f7f7"
            ],
            [
             0.6,
             "#e6f5d0"
            ],
            [
             0.7,
             "#b8e186"
            ],
            [
             0.8,
             "#7fbc41"
            ],
            [
             0.9,
             "#4d9221"
            ],
            [
             1,
             "#276419"
            ]
           ],
           "sequential": [
            [
             0,
             "#0d0887"
            ],
            [
             0.1111111111111111,
             "#46039f"
            ],
            [
             0.2222222222222222,
             "#7201a8"
            ],
            [
             0.3333333333333333,
             "#9c179e"
            ],
            [
             0.4444444444444444,
             "#bd3786"
            ],
            [
             0.5555555555555556,
             "#d8576b"
            ],
            [
             0.6666666666666666,
             "#ed7953"
            ],
            [
             0.7777777777777778,
             "#fb9f3a"
            ],
            [
             0.8888888888888888,
             "#fdca26"
            ],
            [
             1,
             "#f0f921"
            ]
           ],
           "sequentialminus": [
            [
             0,
             "#0d0887"
            ],
            [
             0.1111111111111111,
             "#46039f"
            ],
            [
             0.2222222222222222,
             "#7201a8"
            ],
            [
             0.3333333333333333,
             "#9c179e"
            ],
            [
             0.4444444444444444,
             "#bd3786"
            ],
            [
             0.5555555555555556,
             "#d8576b"
            ],
            [
             0.6666666666666666,
             "#ed7953"
            ],
            [
             0.7777777777777778,
             "#fb9f3a"
            ],
            [
             0.8888888888888888,
             "#fdca26"
            ],
            [
             1,
             "#f0f921"
            ]
           ]
          },
          "colorway": [
           "#636efa",
           "#EF553B",
           "#00cc96",
           "#ab63fa",
           "#FFA15A",
           "#19d3f3",
           "#FF6692",
           "#B6E880",
           "#FF97FF",
           "#FECB52"
          ],
          "font": {
           "color": "#2a3f5f"
          },
          "geo": {
           "bgcolor": "white",
           "lakecolor": "white",
           "landcolor": "#E5ECF6",
           "showlakes": true,
           "showland": true,
           "subunitcolor": "white"
          },
          "hoverlabel": {
           "align": "left"
          },
          "hovermode": "closest",
          "mapbox": {
           "style": "light"
          },
          "paper_bgcolor": "white",
          "plot_bgcolor": "#E5ECF6",
          "polar": {
           "angularaxis": {
            "gridcolor": "white",
            "linecolor": "white",
            "ticks": ""
           },
           "bgcolor": "#E5ECF6",
           "radialaxis": {
            "gridcolor": "white",
            "linecolor": "white",
            "ticks": ""
           }
          },
          "scene": {
           "xaxis": {
            "backgroundcolor": "#E5ECF6",
            "gridcolor": "white",
            "gridwidth": 2,
            "linecolor": "white",
            "showbackground": true,
            "ticks": "",
            "zerolinecolor": "white"
           },
           "yaxis": {
            "backgroundcolor": "#E5ECF6",
            "gridcolor": "white",
            "gridwidth": 2,
            "linecolor": "white",
            "showbackground": true,
            "ticks": "",
            "zerolinecolor": "white"
           },
           "zaxis": {
            "backgroundcolor": "#E5ECF6",
            "gridcolor": "white",
            "gridwidth": 2,
            "linecolor": "white",
            "showbackground": true,
            "ticks": "",
            "zerolinecolor": "white"
           }
          },
          "shapedefaults": {
           "line": {
            "color": "#2a3f5f"
           }
          },
          "ternary": {
           "aaxis": {
            "gridcolor": "white",
            "linecolor": "white",
            "ticks": ""
           },
           "baxis": {
            "gridcolor": "white",
            "linecolor": "white",
            "ticks": ""
           },
           "bgcolor": "#E5ECF6",
           "caxis": {
            "gridcolor": "white",
            "linecolor": "white",
            "ticks": ""
           }
          },
          "title": {
           "x": 0.05
          },
          "xaxis": {
           "automargin": true,
           "gridcolor": "white",
           "linecolor": "white",
           "ticks": "",
           "title": {
            "standoff": 15
           },
           "zerolinecolor": "white",
           "zerolinewidth": 2
          },
          "yaxis": {
           "automargin": true,
           "gridcolor": "white",
           "linecolor": "white",
           "ticks": "",
           "title": {
            "standoff": 15
           },
           "zerolinecolor": "white",
           "zerolinewidth": 2
          }
         }
        },
        "title": {
         "text": "MSFT STOCK PRICE EVOLUTION"
        },
        "xaxis": {
         "rangeslider": {
          "visible": false
         },
         "title": {
          "text": "Date"
         }
        },
        "yaxis": {
         "title": {
          "text": "msft price (USD)"
         }
        }
       }
      },
      "text/html": [
       "<div>                            <div id=\"eb96644c-647f-4a9c-b85d-61c26e71da71\" class=\"plotly-graph-div\" style=\"height:525px; width:100%;\"></div>            <script type=\"text/javascript\">                require([\"plotly\"], function(Plotly) {                    window.PLOTLYENV=window.PLOTLYENV || {};                                    if (document.getElementById(\"eb96644c-647f-4a9c-b85d-61c26e71da71\")) {                    Plotly.newPlot(                        \"eb96644c-647f-4a9c-b85d-61c26e71da71\",                        [{\"close\":[212.4600067138672,206.19000244140625,210.3800048828125,205.91000366210938,209.8300018310547,210.5800018310547,215.80999755859375,221.39999389648438,222.86000061035156,220.86000061035156,219.66000366210938,219.66000366210938,214.22000122070312,214.64999389648438,214.8000030517578,214.88999938964844,216.22999572753906,210.0800018310547,213.25,202.67999267578125,204.72000122070312,202.47000122070312],\"high\":[213.99000549316406,210.99000549316406,210.41000366210938,210.17999267578125,210.11000061035156,211.19000244140625,215.86000061035156,223.86000061035156,225.2100067138672,224.22000122070312,220.36000061035156,222.2899932861328,222.3000030517578,217.3699951171875,216.9199981689453,216.05999755859375,216.27999877929688,216.33999633789062,214.6699981689453,208.83999633789062,207.36000061035156,204.2899932861328],\"low\":[211.32000732421875,205.5399932861328,206.97999572753906,204.82000732421875,206.72000122070312,208.32000732421875,211.22999572753906,216.80999755859375,220.42999267578125,219.1300048828125,216.00999450683594,219.32000732421875,213.72000122070312,213.08999633789062,213.1199951171875,211.6999969482422,213.16000366210938,208.10000610351562,210.3300018310547,202.10000610351562,203.3699951171875,199.6199951171875],\"open\":[213.49000549316406,208.0,207.22000122070312,208.82000732421875,207.05999755859375,210.50999450683594,211.22999572753906,218.7899932861328,222.72000122070312,223.0,217.10000610351562,220.14999389648438,220.4199981689453,215.8000030517578,213.1199951171875,213.92999267578125,215.02999877929688,213.85000610351562,211.58999633789062,207.6699981689453,204.07000732421875,203.5],\"type\":\"candlestick\",\"x\":[\"2020-10-01T00:00:00\",\"2020-10-02T00:00:00\",\"2020-10-05T00:00:00\",\"2020-10-06T00:00:00\",\"2020-10-07T00:00:00\",\"2020-10-08T00:00:00\",\"2020-10-09T00:00:00\",\"2020-10-12T00:00:00\",\"2020-10-13T00:00:00\",\"2020-10-14T00:00:00\",\"2020-10-15T00:00:00\",\"2020-10-16T00:00:00\",\"2020-10-19T00:00:00\",\"2020-10-20T00:00:00\",\"2020-10-21T00:00:00\",\"2020-10-22T00:00:00\",\"2020-10-23T00:00:00\",\"2020-10-26T00:00:00\",\"2020-10-27T00:00:00\",\"2020-10-28T00:00:00\",\"2020-10-29T00:00:00\",\"2020-10-30T00:00:00\"]},{\"line\":{\"color\":\"black\"},\"name\":\"3-day MA\",\"type\":\"scatter\",\"x\":[\"2020-10-01T00:00:00\",\"2020-10-02T00:00:00\",\"2020-10-05T00:00:00\",\"2020-10-06T00:00:00\",\"2020-10-07T00:00:00\",\"2020-10-08T00:00:00\",\"2020-10-09T00:00:00\",\"2020-10-12T00:00:00\",\"2020-10-13T00:00:00\",\"2020-10-14T00:00:00\",\"2020-10-15T00:00:00\",\"2020-10-16T00:00:00\",\"2020-10-19T00:00:00\",\"2020-10-20T00:00:00\",\"2020-10-21T00:00:00\",\"2020-10-22T00:00:00\",\"2020-10-23T00:00:00\",\"2020-10-26T00:00:00\",\"2020-10-27T00:00:00\",\"2020-10-28T00:00:00\",\"2020-10-29T00:00:00\",\"2020-10-30T00:00:00\"],\"y\":[null,null,209.67667134602866,207.49333699544272,208.70667012532553,208.7733357747396,212.07333374023438,215.92999776204428,220.02333068847656,221.7066650390625,221.12666829427084,220.06000264485678,217.84666951497397,216.17666625976562,214.5566660563151,214.77999877929688,215.3066660563151,213.73333231608072,213.1866658528646,208.6699981689453,206.88333129882812,203.28999837239584]}],                        {\"template\":{\"data\":{\"bar\":[{\"error_x\":{\"color\":\"#2a3f5f\"},\"error_y\":{\"color\":\"#2a3f5f\"},\"marker\":{\"line\":{\"color\":\"#E5ECF6\",\"width\":0.5},\"pattern\":{\"fillmode\":\"overlay\",\"size\":10,\"solidity\":0.2}},\"type\":\"bar\"}],\"barpolar\":[{\"marker\":{\"line\":{\"color\":\"#E5ECF6\",\"width\":0.5},\"pattern\":{\"fillmode\":\"overlay\",\"size\":10,\"solidity\":0.2}},\"type\":\"barpolar\"}],\"carpet\":[{\"aaxis\":{\"endlinecolor\":\"#2a3f5f\",\"gridcolor\":\"white\",\"linecolor\":\"white\",\"minorgridcolor\":\"white\",\"startlinecolor\":\"#2a3f5f\"},\"baxis\":{\"endlinecolor\":\"#2a3f5f\",\"gridcolor\":\"white\",\"linecolor\":\"white\",\"minorgridcolor\":\"white\",\"startlinecolor\":\"#2a3f5f\"},\"type\":\"carpet\"}],\"choropleth\":[{\"colorbar\":{\"outlinewidth\":0,\"ticks\":\"\"},\"type\":\"choropleth\"}],\"contour\":[{\"colorbar\":{\"outlinewidth\":0,\"ticks\":\"\"},\"colorscale\":[[0.0,\"#0d0887\"],[0.1111111111111111,\"#46039f\"],[0.2222222222222222,\"#7201a8\"],[0.3333333333333333,\"#9c179e\"],[0.4444444444444444,\"#bd3786\"],[0.5555555555555556,\"#d8576b\"],[0.6666666666666666,\"#ed7953\"],[0.7777777777777778,\"#fb9f3a\"],[0.8888888888888888,\"#fdca26\"],[1.0,\"#f0f921\"]],\"type\":\"contour\"}],\"contourcarpet\":[{\"colorbar\":{\"outlinewidth\":0,\"ticks\":\"\"},\"type\":\"contourcarpet\"}],\"heatmap\":[{\"colorbar\":{\"outlinewidth\":0,\"ticks\":\"\"},\"colorscale\":[[0.0,\"#0d0887\"],[0.1111111111111111,\"#46039f\"],[0.2222222222222222,\"#7201a8\"],[0.3333333333333333,\"#9c179e\"],[0.4444444444444444,\"#bd3786\"],[0.5555555555555556,\"#d8576b\"],[0.6666666666666666,\"#ed7953\"],[0.7777777777777778,\"#fb9f3a\"],[0.8888888888888888,\"#fdca26\"],[1.0,\"#f0f921\"]],\"type\":\"heatmap\"}],\"heatmapgl\":[{\"colorbar\":{\"outlinewidth\":0,\"ticks\":\"\"},\"colorscale\":[[0.0,\"#0d0887\"],[0.1111111111111111,\"#46039f\"],[0.2222222222222222,\"#7201a8\"],[0.3333333333333333,\"#9c179e\"],[0.4444444444444444,\"#bd3786\"],[0.5555555555555556,\"#d8576b\"],[0.6666666666666666,\"#ed7953\"],[0.7777777777777778,\"#fb9f3a\"],[0.8888888888888888,\"#fdca26\"],[1.0,\"#f0f921\"]],\"type\":\"heatmapgl\"}],\"histogram\":[{\"marker\":{\"pattern\":{\"fillmode\":\"overlay\",\"size\":10,\"solidity\":0.2}},\"type\":\"histogram\"}],\"histogram2d\":[{\"colorbar\":{\"outlinewidth\":0,\"ticks\":\"\"},\"colorscale\":[[0.0,\"#0d0887\"],[0.1111111111111111,\"#46039f\"],[0.2222222222222222,\"#7201a8\"],[0.3333333333333333,\"#9c179e\"],[0.4444444444444444,\"#bd3786\"],[0.5555555555555556,\"#d8576b\"],[0.6666666666666666,\"#ed7953\"],[0.7777777777777778,\"#fb9f3a\"],[0.8888888888888888,\"#fdca26\"],[1.0,\"#f0f921\"]],\"type\":\"histogram2d\"}],\"histogram2dcontour\":[{\"colorbar\":{\"outlinewidth\":0,\"ticks\":\"\"},\"colorscale\":[[0.0,\"#0d0887\"],[0.1111111111111111,\"#46039f\"],[0.2222222222222222,\"#7201a8\"],[0.3333333333333333,\"#9c179e\"],[0.4444444444444444,\"#bd3786\"],[0.5555555555555556,\"#d8576b\"],[0.6666666666666666,\"#ed7953\"],[0.7777777777777778,\"#fb9f3a\"],[0.8888888888888888,\"#fdca26\"],[1.0,\"#f0f921\"]],\"type\":\"histogram2dcontour\"}],\"mesh3d\":[{\"colorbar\":{\"outlinewidth\":0,\"ticks\":\"\"},\"type\":\"mesh3d\"}],\"parcoords\":[{\"line\":{\"colorbar\":{\"outlinewidth\":0,\"ticks\":\"\"}},\"type\":\"parcoords\"}],\"pie\":[{\"automargin\":true,\"type\":\"pie\"}],\"scatter\":[{\"marker\":{\"colorbar\":{\"outlinewidth\":0,\"ticks\":\"\"}},\"type\":\"scatter\"}],\"scatter3d\":[{\"line\":{\"colorbar\":{\"outlinewidth\":0,\"ticks\":\"\"}},\"marker\":{\"colorbar\":{\"outlinewidth\":0,\"ticks\":\"\"}},\"type\":\"scatter3d\"}],\"scattercarpet\":[{\"marker\":{\"colorbar\":{\"outlinewidth\":0,\"ticks\":\"\"}},\"type\":\"scattercarpet\"}],\"scattergeo\":[{\"marker\":{\"colorbar\":{\"outlinewidth\":0,\"ticks\":\"\"}},\"type\":\"scattergeo\"}],\"scattergl\":[{\"marker\":{\"colorbar\":{\"outlinewidth\":0,\"ticks\":\"\"}},\"type\":\"scattergl\"}],\"scattermapbox\":[{\"marker\":{\"colorbar\":{\"outlinewidth\":0,\"ticks\":\"\"}},\"type\":\"scattermapbox\"}],\"scatterpolar\":[{\"marker\":{\"colorbar\":{\"outlinewidth\":0,\"ticks\":\"\"}},\"type\":\"scatterpolar\"}],\"scatterpolargl\":[{\"marker\":{\"colorbar\":{\"outlinewidth\":0,\"ticks\":\"\"}},\"type\":\"scatterpolargl\"}],\"scatterternary\":[{\"marker\":{\"colorbar\":{\"outlinewidth\":0,\"ticks\":\"\"}},\"type\":\"scatterternary\"}],\"surface\":[{\"colorbar\":{\"outlinewidth\":0,\"ticks\":\"\"},\"colorscale\":[[0.0,\"#0d0887\"],[0.1111111111111111,\"#46039f\"],[0.2222222222222222,\"#7201a8\"],[0.3333333333333333,\"#9c179e\"],[0.4444444444444444,\"#bd3786\"],[0.5555555555555556,\"#d8576b\"],[0.6666666666666666,\"#ed7953\"],[0.7777777777777778,\"#fb9f3a\"],[0.8888888888888888,\"#fdca26\"],[1.0,\"#f0f921\"]],\"type\":\"surface\"}],\"table\":[{\"cells\":{\"fill\":{\"color\":\"#EBF0F8\"},\"line\":{\"color\":\"white\"}},\"header\":{\"fill\":{\"color\":\"#C8D4E3\"},\"line\":{\"color\":\"white\"}},\"type\":\"table\"}]},\"layout\":{\"annotationdefaults\":{\"arrowcolor\":\"#2a3f5f\",\"arrowhead\":0,\"arrowwidth\":1},\"autotypenumbers\":\"strict\",\"coloraxis\":{\"colorbar\":{\"outlinewidth\":0,\"ticks\":\"\"}},\"colorscale\":{\"diverging\":[[0,\"#8e0152\"],[0.1,\"#c51b7d\"],[0.2,\"#de77ae\"],[0.3,\"#f1b6da\"],[0.4,\"#fde0ef\"],[0.5,\"#f7f7f7\"],[0.6,\"#e6f5d0\"],[0.7,\"#b8e186\"],[0.8,\"#7fbc41\"],[0.9,\"#4d9221\"],[1,\"#276419\"]],\"sequential\":[[0.0,\"#0d0887\"],[0.1111111111111111,\"#46039f\"],[0.2222222222222222,\"#7201a8\"],[0.3333333333333333,\"#9c179e\"],[0.4444444444444444,\"#bd3786\"],[0.5555555555555556,\"#d8576b\"],[0.6666666666666666,\"#ed7953\"],[0.7777777777777778,\"#fb9f3a\"],[0.8888888888888888,\"#fdca26\"],[1.0,\"#f0f921\"]],\"sequentialminus\":[[0.0,\"#0d0887\"],[0.1111111111111111,\"#46039f\"],[0.2222222222222222,\"#7201a8\"],[0.3333333333333333,\"#9c179e\"],[0.4444444444444444,\"#bd3786\"],[0.5555555555555556,\"#d8576b\"],[0.6666666666666666,\"#ed7953\"],[0.7777777777777778,\"#fb9f3a\"],[0.8888888888888888,\"#fdca26\"],[1.0,\"#f0f921\"]]},\"colorway\":[\"#636efa\",\"#EF553B\",\"#00cc96\",\"#ab63fa\",\"#FFA15A\",\"#19d3f3\",\"#FF6692\",\"#B6E880\",\"#FF97FF\",\"#FECB52\"],\"font\":{\"color\":\"#2a3f5f\"},\"geo\":{\"bgcolor\":\"white\",\"lakecolor\":\"white\",\"landcolor\":\"#E5ECF6\",\"showlakes\":true,\"showland\":true,\"subunitcolor\":\"white\"},\"hoverlabel\":{\"align\":\"left\"},\"hovermode\":\"closest\",\"mapbox\":{\"style\":\"light\"},\"paper_bgcolor\":\"white\",\"plot_bgcolor\":\"#E5ECF6\",\"polar\":{\"angularaxis\":{\"gridcolor\":\"white\",\"linecolor\":\"white\",\"ticks\":\"\"},\"bgcolor\":\"#E5ECF6\",\"radialaxis\":{\"gridcolor\":\"white\",\"linecolor\":\"white\",\"ticks\":\"\"}},\"scene\":{\"xaxis\":{\"backgroundcolor\":\"#E5ECF6\",\"gridcolor\":\"white\",\"gridwidth\":2,\"linecolor\":\"white\",\"showbackground\":true,\"ticks\":\"\",\"zerolinecolor\":\"white\"},\"yaxis\":{\"backgroundcolor\":\"#E5ECF6\",\"gridcolor\":\"white\",\"gridwidth\":2,\"linecolor\":\"white\",\"showbackground\":true,\"ticks\":\"\",\"zerolinecolor\":\"white\"},\"zaxis\":{\"backgroundcolor\":\"#E5ECF6\",\"gridcolor\":\"white\",\"gridwidth\":2,\"linecolor\":\"white\",\"showbackground\":true,\"ticks\":\"\",\"zerolinecolor\":\"white\"}},\"shapedefaults\":{\"line\":{\"color\":\"#2a3f5f\"}},\"ternary\":{\"aaxis\":{\"gridcolor\":\"white\",\"linecolor\":\"white\",\"ticks\":\"\"},\"baxis\":{\"gridcolor\":\"white\",\"linecolor\":\"white\",\"ticks\":\"\"},\"bgcolor\":\"#E5ECF6\",\"caxis\":{\"gridcolor\":\"white\",\"linecolor\":\"white\",\"ticks\":\"\"}},\"title\":{\"x\":0.05},\"xaxis\":{\"automargin\":true,\"gridcolor\":\"white\",\"linecolor\":\"white\",\"ticks\":\"\",\"title\":{\"standoff\":15},\"zerolinecolor\":\"white\",\"zerolinewidth\":2},\"yaxis\":{\"automargin\":true,\"gridcolor\":\"white\",\"linecolor\":\"white\",\"ticks\":\"\",\"title\":{\"standoff\":15},\"zerolinecolor\":\"white\",\"zerolinewidth\":2}}},\"title\":{\"text\":\"MSFT STOCK PRICE EVOLUTION\"},\"xaxis\":{\"rangeslider\":{\"visible\":false},\"title\":{\"text\":\"Date\"}},\"yaxis\":{\"title\":{\"text\":\"msft price (USD)\"}}},                        {\"responsive\": true}                    ).then(function(){\n",
       "                            \n",
       "var gd = document.getElementById('eb96644c-647f-4a9c-b85d-61c26e71da71');\n",
       "var x = new MutationObserver(function (mutations, observer) {{\n",
       "        var display = window.getComputedStyle(gd).display;\n",
       "        if (!display || display === 'none') {{\n",
       "            console.log([gd, 'removed!']);\n",
       "            Plotly.purge(gd);\n",
       "            observer.disconnect();\n",
       "        }}\n",
       "}});\n",
       "\n",
       "// Listen for the removal of the full notebook cells\n",
       "var notebookContainer = gd.closest('#notebook-container');\n",
       "if (notebookContainer) {{\n",
       "    x.observe(notebookContainer, {childList: true});\n",
       "}}\n",
       "\n",
       "// Listen for the clearing of the current output cell\n",
       "var outputEl = gd.closest('.output');\n",
       "if (outputEl) {{\n",
       "    x.observe(outputEl, {childList: true});\n",
       "}}\n",
       "\n",
       "                        })                };                });            </script>        </div>"
      ]
     },
     "metadata": {},
     "output_type": "display_data"
    },
    {
     "data": {
      "image/png": "[encoded data removed]",
      "text/plain": [
       "<Figure size 1152x576 with 2 Axes>"
      ]
     },
     "metadata": {
      "needs_background": "light"
     },
     "output_type": "display_data"
    }
   ],
   "source": [
    "fig, ax = plt.subplots(figsize = (16,8))\n",
    "ax = plt.subplot(2,1,1)\n",
    "candlestick = go.Candlestick(x=apple_2020_october.index,\n",
    "                            open=apple_2020_october['Open'],\n",
    "                            high=apple_2020_october['High'],\n",
    "                            low=apple_2020_october['Low'],\n",
    "                            close=apple_2020_october['Close'])\n",
    "\n",
    "#Moving average line (in this case for 3 days)\n",
    "ma5d=apple_2020_october['Close'].rolling(window=3).mean()\n",
    "\n",
    "fig = go.Figure(data=[candlestick])\n",
    "fig.update_layout(xaxis_rangeslider_visible=False, title=str(asset_apple).upper()+\" STOCK PRICE EVOLUTION\", \n",
    "                  yaxis_title=str(asset_apple)+\" price (USD)\", \n",
    "                  xaxis_title=\"Date\", )\n",
    "fig.add_trace(go.Scatter(x=apple_2020_october.index,\n",
    "                         y=ma5d,\n",
    "                         name=\"3-day MA\",\n",
    "                         line = dict(color='black')))\n",
    "fig.show()\n",
    "###########\n",
    "ax = plt.subplot(2,1,2)\n",
    "candlestick = go.Candlestick(x=microsoft_2020_october.index,\n",
    "                            open=microsoft_2020_october['Open'],\n",
    "                            high=microsoft_2020_october['High'],\n",
    "                            low=microsoft_2020_october['Low'],\n",
    "                            close=microsoft_2020_october['Close'])\n",
    "\n",
    "#Moving average line (in this case for 3 days)\n",
    "ma5d=microsoft_2020_october['Close'].rolling(window=3).mean()\n",
    "\n",
    "fig = go.Figure(data=[candlestick])\n",
    "fig.update_layout(xaxis_rangeslider_visible=False, title=str(asset_microsoft).upper()+\" STOCK PRICE EVOLUTION\", \n",
    "                  yaxis_title=str(asset_microsoft)+\" price (USD)\", \n",
    "                  xaxis_title=\"Date\", )\n",
    "fig.add_trace(go.Scatter(x=microsoft_2020_october.index,\n",
    "                         y=ma5d,\n",
    "                         name=\"3-day MA\",\n",
    "                         line = dict(color='black')))\n",
    "fig.show()\n",
    "\n"
   ]
  },
  {
   "cell_type": "markdown",
   "id": "5a75cd2b",
   "metadata": {},
   "source": [
    "**Irene: (Identifying the graph out of 3 options and analyzing the graph and identifying the trend in it)**"
   ]
  },
  {
   "cell_type": "code",
   "execution_count": 22,
   "id": "d546204b",
   "metadata": {},
   "outputs": [
    {
     "name": "stdout",
     "output_type": "stream",
     "text": [
      "Look at this graph\n",
      "Which one of this graphs is a candlestick? Press A,B or C\n",
      "A\n",
      "Wrong answer\n"
     ]
    }
   ],
   "source": [
    "from PIL import Image\n",
    "\n",
    "def graph():\n",
    "    print('Look at this graph')\n",
    "    fid = Image.open(\"/Users/sultanbeishenkulov/working/CRIF internship/Market it/graph.png\").show()\n",
    "    letter=input(\"Which one of this graphs is a candlestick? Press A,B or C\\n\")\n",
    "    if (letter=='B')or (letter=='b'):\n",
    "        print('Correct answer')\n",
    "    else:\n",
    "        print(\"Wrong answer\")\n",
    "graph()"
   ]
  },
  {
   "cell_type": "code",
   "execution_count": 23,
   "id": "34dcea0a",
   "metadata": {},
   "outputs": [],
   "source": [
    "# Installation\n",
    "#!pip install statsmodels==0.10.2\n"
   ]
  },
  {
   "cell_type": "code",
   "execution_count": 24,
   "id": "5af39e56",
   "metadata": {},
   "outputs": [],
   "source": [
    "#!pip install stldecompose==0.0.5"
   ]
  },
  {
   "cell_type": "code",
   "execution_count": 25,
   "id": "3d9bd5ea",
   "metadata": {},
   "outputs": [
    {
     "name": "stdout",
     "output_type": "stream",
     "text": [
      "Look at this graph.\n"
     ]
    },
    {
     "data": {
      "image/png": "[encoded data removed]",
      "text/plain": [
       "<Figure size 432x288 with 1 Axes>"
      ]
     },
     "metadata": {
      "needs_background": "light"
     },
     "output_type": "display_data"
    },
    {
     "name": "stdout",
     "output_type": "stream",
     "text": [
      "In the x-axis you have the days between 2021-07-27 and 2021-09-07. \n",
      "In the y-axis you can see the close price of the Apple stock.\n",
      "Do you recognize a downtrend, a sideways or an uptrend ??\n",
      "Enter the 0 for downtrend, 1 for sideways,2 for uptrend, : 1\n",
      "\n",
      "Wrong answer.\n",
      "\n",
      "STL is a versatile and robust method for decomposing time series. STL is an acronym for “Seasonal and Trend decomposition using Loess,” while loess is a method for estimating nonlinear relationships. The STL method was developed by R. B. Cleveland et al. (1990).\n",
      "\n",
      "STL has several advantages over classical decomposition, and the SEATS and X-11 methods:\n",
      "\n",
      "Unlike SEATS and X-11, STL will handle any type of seasonality, not only monthly and quarterly data.\n",
      "The seasonal component is allowed to change over time, and the rate of change can be controlled by the user.\n",
      "The smoothness of the trend-cycle can also be controlled by the user.\n",
      "It can be robust to outliers (i.e., the user can specify a robust decomposition), so that occasional unusual observations will not affect the estimates of the trend-cycle and seasonal components. They will, however, affect the remainder component.\n",
      "In orange you can the trend line. It's going up.\n",
      "\n"
     ]
    },
    {
     "data": {
      "image/png": "[encoded data removed]",
      "text/plain": [
       "<Figure size 432x288 with 1 Axes>"
      ]
     },
     "metadata": {
      "needs_background": "light"
     },
     "output_type": "display_data"
    }
   ],
   "source": [
    "# Load data\n",
    "\n",
    "ticker=\"aapl\"\n",
    "\n",
    "start=dt.datetime(2021,7, 27)\n",
    "end=dt.datetime(2021,9,7)\n",
    "data = web.DataReader(ticker, 'yahoo', start,end)\n",
    "#in https://finance.yahoo.com/quote/AAPL/chart?p=AAPL#eyJpbnRlcnZhbCI6ImRheSIsInBlcmlvZGljaXR5IjoxLCJ0aW1lVW5pdCI6bnVsbCwiY2FuZGxlV2lkdGgiOjQuNDY4NTAzOTM3MDA3ODc0LCJmbGlwcGVkIjpmYWxzZSwidm9sdW1lVW5kZXJsYXkiOnRydWUsImFkaiI6dHJ1ZSwiY3Jvc3NoYWlyIjp0cnVlLCJjaGFydFR5cGUiOiJsaW5lIiwiZXh0ZW5kZWQiOmZhbHNlLCJtYXJrZXRTZXNzaW9ucyI6e30sImFnZ3JlZ2F0aW9uVHlwZSI6Im9obGMiLCJjaGFydFNjYWxlIjoibGluZWFyIiwic3R1ZGllcyI6eyLigIx2b2wgdW5kcuKAjCI6eyJ0eXBlIjoidm9sIHVuZHIiLCJpbnB1dHMiOnsiaWQiOiLigIx2b2wgdW5kcuKAjCIsImRpc3BsYXkiOiLigIx2b2wgdW5kcuKAjCJ9LCJvdXRwdXRzIjp7IlVwIFZvbHVtZSI6IiMwMGIwNjEiLCJEb3duIFZvbHVtZSI6IiNmZjMzM2EifSwicGFuZWwiOiJjaGFydCIsInBhcmFtZXRlcnMiOnsid2lkdGhGYWN0b3IiOjAuNDUsImNoYXJ0TmFtZSI6ImNoYXJ0In19fSwicGFuZWxzIjp7ImNoYXJ0Ijp7InBlcmNlbnQiOjEsImRpc3BsYXkiOiJBQVBMIiwiY2hhcnROYW1lIjoiY2hhcnQiLCJpbmRleCI6MCwieUF4aXMiOnsibmFtZSI6ImNoYXJ0IiwicG9zaXRpb24iOm51bGx9LCJ5YXhpc0xIUyI6W10sInlheGlzUkhTIjpbImNoYXJ0Iiwi4oCMdm9sIHVuZHLigIwiXX19LCJzZXRTcGFuIjpudWxsLCJsaW5lV2lkdGgiOjIsInN0cmlwZWRCYWNrZ3JvdW5kIjp0cnVlLCJldmVudHMiOnRydWUsImNvbG9yIjoiIzAwODFmMiIsInN0cmlwZWRCYWNrZ3JvdWQiOnRydWUsInJhbmdlIjpudWxsLCJldmVudE1hcCI6eyJjb3Jwb3JhdGUiOnsiZGl2cyI6dHJ1ZSwic3BsaXRzIjp0cnVlfSwic2lnRGV2Ijp7fX0sInN5bWJvbHMiOlt7InN5bWJvbCI6IkFBUEwiLCJzeW1ib2xPYmplY3QiOnsic3ltYm9sIjoiQUFQTCIsInF1b3RlVHlwZSI6IkVRVUlUWSIsImV4Y2hhbmdlVGltZVpvbmUiOiJBbWVyaWNhL05ld19Zb3JrIn0sInBlcmlvZGljaXR5IjoxLCJpbnRlcnZhbCI6ImRheSIsInRpbWVVbml0IjpudWxsLCJzZXRTcGFuIjpudWxsfV19\n",
    "#we saw an upper trend in this interval\n",
    "\n",
    "#other way\n",
    "#data = si.get_data(asset,start_date='2021-07-27',end_date='2021-09-07')\n",
    "\n",
    "# trend function\n",
    "\n",
    "def trend(df):\n",
    "     print('Look at this graph.')\n",
    "     #fig = plt.figure()\n",
    "     data['Close'].plot()\n",
    "     plt.xlabel(\"days\")\n",
    "     plt.ylabel(\"close price\")\n",
    "     plt.title(\"Apple stock\")\n",
    "     plt.show()\n",
    "     number=input('In the x-axis you have the days between 2021-07-27 and 2021-09-07. \\n' \n",
    "                  'In the y-axis you can see the close price of the Apple stock.\\n' \n",
    "                  'Do you recognize a downtrend, a sideways or an uptrend ??\\n'\n",
    "                  'Enter the 0 for downtrend, 1 for sideways,2 for uptrend, : ')\n",
    "     read_STL = open(\"/Users/sultanbeishenkulov/working/CRIF internship/Market it/STL_text.txt\", \"r\").read()\n",
    "     if number=='2':\n",
    "        print('\\nCorrect answer.\\n')\n",
    "     else:\n",
    "        print('\\nWrong answer.\\n')\n",
    "     print(read_STL) \n",
    "     decomp = decompose(data[\"Close\"].values)\n",
    "     trend = decomp.trend\n",
    "     sns.lineplot(data=data[\"Close\"]);\n",
    "     sns.lineplot(x=data[\"Close\"].index ,y=trend)\n",
    "\n",
    "trend(data)"
   ]
  },
  {
   "cell_type": "code",
   "execution_count": 26,
   "id": "23545ad4",
   "metadata": {},
   "outputs": [
    {
     "data": {
      "image/png": "[encoded data removed]",
      "text/plain": [
       "<Figure size 1440x864 with 4 Axes>"
      ]
     },
     "metadata": {
      "needs_background": "light"
     },
     "output_type": "display_data"
    }
   ],
   "source": [
    "#another type of answer could be done with the seasonal_decompose \n",
    "import statsmodels.api as sm\n",
    "from pylab import rcParams\n",
    "rcParams['figure.figsize'] = 20, 12\n",
    "y=data['Close']\n",
    "decomposition = sm.tsa.seasonal_decompose(y, model='multiplicative', filt=None, two_sided=True, freq=7) \n",
    "fig = decomposition.plot()\n",
    "plt.show()\n",
    "\n",
    "#from https://github.com/yuyasugano/finance_python/blob/master/How%20to%20draw%20a%20trend%20line%20with%20DataFrame%20in%20Python.ipynb"
   ]
  },
  {
   "cell_type": "markdown",
   "id": "145a4fbf",
   "metadata": {},
   "source": [
    "**Giuseppe: (Looking at RSI and identifying which one is overbought or oversold)**"
   ]
  },
  {
   "cell_type": "code",
   "execution_count": 27,
   "id": "8dc33c1e",
   "metadata": {},
   "outputs": [],
   "source": [
    "ticker=\"FB\"\n",
    "\n",
    "start = dt.datetime(2018, 1, 1)\n",
    "end= dt.datetime.now()\n",
    "\n",
    "\n",
    "data = web.DataReader(ticker, 'yahoo', start, end)"
   ]
  },
  {
   "cell_type": "code",
   "execution_count": 28,
   "id": "aff7a504",
   "metadata": {},
   "outputs": [],
   "source": [
    "delta =data['Adj Close'].diff(1)\n",
    "delta.dropna(inplace=True)\n",
    "\n",
    "positive = delta.copy()\n",
    "negative = delta.copy()\n",
    "\n",
    "positive[positive < 0] = 0\n",
    "negative[negative > 0] = 0\n",
    "\n",
    "days = 14\n",
    "\n",
    "average_gain = positive.rolling(window=days).mean()\n",
    "average_loss = abs(negative.rolling(window=days).mean())\n",
    "\n",
    "relative_strenght = average_gain/average_loss\n",
    "RSI = 100.0 -(100.0 / (1.0 + relative_strenght))\n",
    "\n",
    "combined = pd.DataFrame()\n",
    "combined['Adj Close'] = data['Adj Close']\n",
    "combined['RSI']=RSI\n",
    "\n"
   ]
  },
  {
   "cell_type": "code",
   "execution_count": 29,
   "id": "e319a20e",
   "metadata": {},
   "outputs": [
    {
     "data": {
      "text/plain": [
       "<function matplotlib.pyplot.show(close=None, block=None)>"
      ]
     },
     "execution_count": 29,
     "metadata": {},
     "output_type": "execute_result"
    },
    {
     "data": {
      "image/png": "[encoded data removed]",
      "text/plain": [
       "<Figure size 864x576 with 2 Axes>"
      ]
     },
     "metadata": {},
     "output_type": "display_data"
    }
   ],
   "source": [
    "plt.figure(figsize=(12,8))\n",
    "ax1=plt.subplot(211)\n",
    "ax1.plot(combined.index,combined['Adj Close'],color='lightgray')\n",
    "ax1.set_title(\"Adjusted Close Price\", color='white')\n",
    "\n",
    "ax1.grid(True, color=\"#555555\")\n",
    "ax1.set_axisbelow(True)\n",
    "ax1.set_facecolor('black')\n",
    "ax1.figure.set_facecolor('#121212')\n",
    "ax1.tick_params(axis='x', colors='white')\n",
    "ax1.tick_params(axis='y', colors='white')\n",
    "\n",
    "ax2 =plt.subplot(212, sharex=ax1)\n",
    "ax2.plot(combined.index, combined['RSI'], color='lightgray')\n",
    "ax2.set_title(\"Adjusted Close Price\", color='white')\n",
    "ax2.axhline(0, linestyle='--', alpha=0.5, color='#ff0000')\n",
    "ax2.axhline(10, linestyle='--', alpha=0.5, color='#ffaa00')\n",
    "ax2.axhline(20, linestyle='--', alpha=0.5, color='#00ff00')\n",
    "ax2.axhline(30, linestyle='--', alpha=0.5, color='#cccccc')\n",
    "ax2.axhline(70, linestyle='--', alpha=0.5, color='#cccccc')\n",
    "ax2.axhline(80, linestyle='--', alpha=0.5, color='#00ff00')\n",
    "ax2.axhline(90, linestyle='--', alpha=0.5, color='#ffaa00')\n",
    "ax2.axhline(100, linestyle='--', alpha=0.5, color='#ff0000')\n",
    "\n",
    "ax2.set_title('RSI Value')\n",
    "ax2.grid(False)\n",
    "ax2.set_axisbelow(True)\n",
    "ax2.set_facecolor('black')\n",
    "ax2.tick_params(axis='x', colors='white')\n",
    "ax2.tick_params(axis='y', colors='white')\n",
    "\n",
    "plt.show\n"
   ]
  },
  {
   "cell_type": "code",
   "execution_count": null,
   "id": "c1b2c7b6",
   "metadata": {},
   "outputs": [],
   "source": []
  },
  {
   "cell_type": "markdown",
   "id": "3aa13f59",
   "metadata": {},
   "source": [
    "**identifying the patters:**"
   ]
  },
  {
   "cell_type": "code",
   "execution_count": 30,
   "id": "fd8ea986",
   "metadata": {},
   "outputs": [],
   "source": [
    "# !pip install TA-Lib"
   ]
  },
  {
   "cell_type": "code",
   "execution_count": 79,
   "id": "f18c5d09",
   "metadata": {},
   "outputs": [
    {
     "name": "stdout",
     "output_type": "stream",
     "text": [
      "Collecting package metadata (current_repodata.json): done\n",
      "Solving environment: done\n",
      "\n",
      "# All requested packages already installed.\n",
      "\n"
     ]
    }
   ],
   "source": [
    "#conda install -c conda-forge ta-lib"
   ]
  },
  {
   "cell_type": "code",
   "execution_count": 32,
   "id": "b4be20df",
   "metadata": {},
   "outputs": [],
   "source": [
    "# !export TA_INCLUDE_PATH=\"$(brew --prefix ta-lib)/include\"\n",
    "# !export TA_LIBRARY_PATH=\"$(brew --prefix ta-lib)/lib\"\n",
    "# !arch -arm64 brew install ta-lib"
   ]
  },
  {
   "cell_type": "code",
   "execution_count": 33,
   "id": "e8bd5d69",
   "metadata": {},
   "outputs": [],
   "source": [
    "# !your-arm64-python -m pip install --no-cache-dir ta-lib"
   ]
  },
  {
   "cell_type": "code",
   "execution_count": 34,
   "id": "db955696",
   "metadata": {},
   "outputs": [],
   "source": [
    "import talib"
   ]
  },
  {
   "cell_type": "code",
   "execution_count": 35,
   "id": "7373c55b",
   "metadata": {},
   "outputs": [],
   "source": [
    "close = np.random.random(100)"
   ]
  },
  {
   "cell_type": "code",
   "execution_count": 36,
   "id": "2212a036",
   "metadata": {},
   "outputs": [],
   "source": [
    "output = talib.SMA(close)"
   ]
  },
  {
   "cell_type": "code",
   "execution_count": 37,
   "id": "833c580b",
   "metadata": {},
   "outputs": [
    {
     "data": {
      "text/plain": [
       "[<matplotlib.lines.Line2D at 0x7fe0748873d0>]"
      ]
     },
     "execution_count": 37,
     "metadata": {},
     "output_type": "execute_result"
    },
    {
     "data": {
      "image/png": "[encoded data removed]",
      "text/plain": [
       "<Figure size 1440x864 with 1 Axes>"
      ]
     },
     "metadata": {
      "needs_background": "light"
     },
     "output_type": "display_data"
    }
   ],
   "source": [
    "plt.plot(output)"
   ]
  },
  {
   "cell_type": "code",
   "execution_count": 38,
   "id": "e7be9e3d",
   "metadata": {},
   "outputs": [],
   "source": [
    "from talib import MA_Type\n",
    "\n",
    "upper, middle, lower = talib.BBANDS(close, matype=MA_Type.T3)"
   ]
  },
  {
   "cell_type": "code",
   "execution_count": 39,
   "id": "7f82124b",
   "metadata": {},
   "outputs": [
    {
     "data": {
      "text/plain": [
       "[<matplotlib.lines.Line2D at 0x7fe0901d97c0>,\n",
       " <matplotlib.lines.Line2D at 0x7fe0901d98b0>]"
      ]
     },
     "execution_count": 39,
     "metadata": {},
     "output_type": "execute_result"
    },
    {
     "data": {
      "image/png": "[encoded data removed]",
      "text/plain": [
       "<Figure size 1440x864 with 1 Axes>"
      ]
     },
     "metadata": {
      "needs_background": "light"
     },
     "output_type": "display_data"
    }
   ],
   "source": [
    "plt.plot(upper, middle, lower)"
   ]
  },
  {
   "cell_type": "code",
   "execution_count": 40,
   "id": "a9b97e83",
   "metadata": {},
   "outputs": [
    {
     "name": "stdout",
     "output_type": "stream",
     "text": [
      "['HT_DCPERIOD', 'HT_DCPHASE', 'HT_PHASOR', 'HT_SINE', 'HT_TRENDMODE', 'ADD', 'DIV', 'MAX', 'MAXINDEX', 'MIN', 'MININDEX', 'MINMAX', 'MINMAXINDEX', 'MULT', 'SUB', 'SUM', 'ACOS', 'ASIN', 'ATAN', 'CEIL', 'COS', 'COSH', 'EXP', 'FLOOR', 'LN', 'LOG10', 'SIN', 'SINH', 'SQRT', 'TAN', 'TANH', 'ADX', 'ADXR', 'APO', 'AROON', 'AROONOSC', 'BOP', 'CCI', 'CMO', 'DX', 'MACD', 'MACDEXT', 'MACDFIX', 'MFI', 'MINUS_DI', 'MINUS_DM', 'MOM', 'PLUS_DI', 'PLUS_DM', 'PPO', 'ROC', 'ROCP', 'ROCR', 'ROCR100', 'RSI', 'STOCH', 'STOCHF', 'STOCHRSI', 'TRIX', 'ULTOSC', 'WILLR', 'BBANDS', 'DEMA', 'EMA', 'HT_TRENDLINE', 'KAMA', 'MA', 'MAMA', 'MAVP', 'MIDPOINT', 'MIDPRICE', 'SAR', 'SAREXT', 'SMA', 'T3', 'TEMA', 'TRIMA', 'WMA', 'CDL2CROWS', 'CDL3BLACKCROWS', 'CDL3INSIDE', 'CDL3LINESTRIKE', 'CDL3OUTSIDE', 'CDL3STARSINSOUTH', 'CDL3WHITESOLDIERS', 'CDLABANDONEDBABY', 'CDLADVANCEBLOCK', 'CDLBELTHOLD', 'CDLBREAKAWAY', 'CDLCLOSINGMARUBOZU', 'CDLCONCEALBABYSWALL', 'CDLCOUNTERATTACK', 'CDLDARKCLOUDCOVER', 'CDLDOJI', 'CDLDOJISTAR', 'CDLDRAGONFLYDOJI', 'CDLENGULFING', 'CDLEVENINGDOJISTAR', 'CDLEVENINGSTAR', 'CDLGAPSIDESIDEWHITE', 'CDLGRAVESTONEDOJI', 'CDLHAMMER', 'CDLHANGINGMAN', 'CDLHARAMI', 'CDLHARAMICROSS', 'CDLHIGHWAVE', 'CDLHIKKAKE', 'CDLHIKKAKEMOD', 'CDLHOMINGPIGEON', 'CDLIDENTICAL3CROWS', 'CDLINNECK', 'CDLINVERTEDHAMMER', 'CDLKICKING', 'CDLKICKINGBYLENGTH', 'CDLLADDERBOTTOM', 'CDLLONGLEGGEDDOJI', 'CDLLONGLINE', 'CDLMARUBOZU', 'CDLMATCHINGLOW', 'CDLMATHOLD', 'CDLMORNINGDOJISTAR', 'CDLMORNINGSTAR', 'CDLONNECK', 'CDLPIERCING', 'CDLRICKSHAWMAN', 'CDLRISEFALL3METHODS', 'CDLSEPARATINGLINES', 'CDLSHOOTINGSTAR', 'CDLSHORTLINE', 'CDLSPINNINGTOP', 'CDLSTALLEDPATTERN', 'CDLSTICKSANDWICH', 'CDLTAKURI', 'CDLTASUKIGAP', 'CDLTHRUSTING', 'CDLTRISTAR', 'CDLUNIQUE3RIVER', 'CDLUPSIDEGAP2CROWS', 'CDLXSIDEGAP3METHODS', 'AVGPRICE', 'MEDPRICE', 'TYPPRICE', 'WCLPRICE', 'BETA', 'CORREL', 'LINEARREG', 'LINEARREG_ANGLE', 'LINEARREG_INTERCEPT', 'LINEARREG_SLOPE', 'STDDEV', 'TSF', 'VAR', 'ATR', 'NATR', 'TRANGE', 'AD', 'ADOSC', 'OBV']\n"
     ]
    }
   ],
   "source": [
    "# list of functions\n",
    "print(talib.get_functions())\n",
    "\n"
   ]
  },
  {
   "cell_type": "code",
   "execution_count": 41,
   "id": "8d126c5e",
   "metadata": {},
   "outputs": [
    {
     "name": "stdout",
     "output_type": "stream",
     "text": [
      "{'Cycle Indicators': ['HT_DCPERIOD', 'HT_DCPHASE', 'HT_PHASOR', 'HT_SINE', 'HT_TRENDMODE'], 'Math Operators': ['ADD', 'DIV', 'MAX', 'MAXINDEX', 'MIN', 'MININDEX', 'MINMAX', 'MINMAXINDEX', 'MULT', 'SUB', 'SUM'], 'Math Transform': ['ACOS', 'ASIN', 'ATAN', 'CEIL', 'COS', 'COSH', 'EXP', 'FLOOR', 'LN', 'LOG10', 'SIN', 'SINH', 'SQRT', 'TAN', 'TANH'], 'Momentum Indicators': ['ADX', 'ADXR', 'APO', 'AROON', 'AROONOSC', 'BOP', 'CCI', 'CMO', 'DX', 'MACD', 'MACDEXT', 'MACDFIX', 'MFI', 'MINUS_DI', 'MINUS_DM', 'MOM', 'PLUS_DI', 'PLUS_DM', 'PPO', 'ROC', 'ROCP', 'ROCR', 'ROCR100', 'RSI', 'STOCH', 'STOCHF', 'STOCHRSI', 'TRIX', 'ULTOSC', 'WILLR'], 'Overlap Studies': ['BBANDS', 'DEMA', 'EMA', 'HT_TRENDLINE', 'KAMA', 'MA', 'MAMA', 'MAVP', 'MIDPOINT', 'MIDPRICE', 'SAR', 'SAREXT', 'SMA', 'T3', 'TEMA', 'TRIMA', 'WMA'], 'Pattern Recognition': ['CDL2CROWS', 'CDL3BLACKCROWS', 'CDL3INSIDE', 'CDL3LINESTRIKE', 'CDL3OUTSIDE', 'CDL3STARSINSOUTH', 'CDL3WHITESOLDIERS', 'CDLABANDONEDBABY', 'CDLADVANCEBLOCK', 'CDLBELTHOLD', 'CDLBREAKAWAY', 'CDLCLOSINGMARUBOZU', 'CDLCONCEALBABYSWALL', 'CDLCOUNTERATTACK', 'CDLDARKCLOUDCOVER', 'CDLDOJI', 'CDLDOJISTAR', 'CDLDRAGONFLYDOJI', 'CDLENGULFING', 'CDLEVENINGDOJISTAR', 'CDLEVENINGSTAR', 'CDLGAPSIDESIDEWHITE', 'CDLGRAVESTONEDOJI', 'CDLHAMMER', 'CDLHANGINGMAN', 'CDLHARAMI', 'CDLHARAMICROSS', 'CDLHIGHWAVE', 'CDLHIKKAKE', 'CDLHIKKAKEMOD', 'CDLHOMINGPIGEON', 'CDLIDENTICAL3CROWS', 'CDLINNECK', 'CDLINVERTEDHAMMER', 'CDLKICKING', 'CDLKICKINGBYLENGTH', 'CDLLADDERBOTTOM', 'CDLLONGLEGGEDDOJI', 'CDLLONGLINE', 'CDLMARUBOZU', 'CDLMATCHINGLOW', 'CDLMATHOLD', 'CDLMORNINGDOJISTAR', 'CDLMORNINGSTAR', 'CDLONNECK', 'CDLPIERCING', 'CDLRICKSHAWMAN', 'CDLRISEFALL3METHODS', 'CDLSEPARATINGLINES', 'CDLSHOOTINGSTAR', 'CDLSHORTLINE', 'CDLSPINNINGTOP', 'CDLSTALLEDPATTERN', 'CDLSTICKSANDWICH', 'CDLTAKURI', 'CDLTASUKIGAP', 'CDLTHRUSTING', 'CDLTRISTAR', 'CDLUNIQUE3RIVER', 'CDLUPSIDEGAP2CROWS', 'CDLXSIDEGAP3METHODS'], 'Price Transform': ['AVGPRICE', 'MEDPRICE', 'TYPPRICE', 'WCLPRICE'], 'Statistic Functions': ['BETA', 'CORREL', 'LINEARREG', 'LINEARREG_ANGLE', 'LINEARREG_INTERCEPT', 'LINEARREG_SLOPE', 'STDDEV', 'TSF', 'VAR'], 'Volatility Indicators': ['ATR', 'NATR', 'TRANGE'], 'Volume Indicators': ['AD', 'ADOSC', 'OBV']}\n"
     ]
    }
   ],
   "source": [
    "# dict of functions by group\n",
    "print(talib.get_function_groups())"
   ]
  },
  {
   "cell_type": "code",
   "execution_count": 70,
   "id": "87ff65f8",
   "metadata": {},
   "outputs": [
    {
     "name": "stdout",
     "output_type": "stream",
     "text": [
      "{'open': Date\n",
      "2020-10-01    117.639999\n",
      "2020-10-02    112.889999\n",
      "2020-10-05    113.910004\n",
      "2020-10-06    115.699997\n",
      "2020-10-07    114.620003\n",
      "2020-10-08    116.250000\n",
      "2020-10-09    115.279999\n",
      "2020-10-12    120.059998\n",
      "2020-10-13    125.269997\n",
      "2020-10-14    121.000000\n",
      "2020-10-15    118.720001\n",
      "2020-10-16    121.279999\n",
      "2020-10-19    119.959999\n",
      "2020-10-20    116.199997\n",
      "2020-10-21    116.669998\n",
      "2020-10-22    117.449997\n",
      "2020-10-23    116.389999\n",
      "2020-10-26    114.010002\n",
      "2020-10-27    115.489998\n",
      "2020-10-28    115.050003\n",
      "2020-10-29    112.370003\n",
      "2020-10-30    111.059998\n",
      "Name: Open, dtype: float64, 'high': Date\n",
      "2020-10-01    117.720001\n",
      "2020-10-02    115.370003\n",
      "2020-10-05    116.650002\n",
      "2020-10-06    116.120003\n",
      "2020-10-07    115.550003\n",
      "2020-10-08    116.400002\n",
      "2020-10-09    117.000000\n",
      "2020-10-12    125.180000\n",
      "2020-10-13    125.389999\n",
      "2020-10-14    123.029999\n",
      "2020-10-15    121.199997\n",
      "2020-10-16    121.550003\n",
      "2020-10-19    120.419998\n",
      "2020-10-20    118.980003\n",
      "2020-10-21    118.709999\n",
      "2020-10-22    118.040001\n",
      "2020-10-23    116.550003\n",
      "2020-10-26    116.550003\n",
      "2020-10-27    117.279999\n",
      "2020-10-28    115.430000\n",
      "2020-10-29    116.930000\n",
      "2020-10-30    111.989998\n",
      "Name: High, dtype: float64, 'low': Date\n",
      "2020-10-01    115.830002\n",
      "2020-10-02    112.220001\n",
      "2020-10-05    113.550003\n",
      "2020-10-06    112.250000\n",
      "2020-10-07    114.129997\n",
      "2020-10-08    114.589996\n",
      "2020-10-09    114.919998\n",
      "2020-10-12    119.279999\n",
      "2020-10-13    119.650002\n",
      "2020-10-14    119.620003\n",
      "2020-10-15    118.150002\n",
      "2020-10-16    118.809998\n",
      "2020-10-19    115.660004\n",
      "2020-10-20    115.629997\n",
      "2020-10-21    116.449997\n",
      "2020-10-22    114.589996\n",
      "2020-10-23    114.279999\n",
      "2020-10-26    112.879997\n",
      "2020-10-27    114.540001\n",
      "2020-10-28    111.099998\n",
      "2020-10-29    112.199997\n",
      "2020-10-30    107.720001\n",
      "Name: Low, dtype: float64, 'close': Date\n",
      "2020-10-01    116.790001\n",
      "2020-10-02    113.019997\n",
      "2020-10-05    116.500000\n",
      "2020-10-06    113.160004\n",
      "2020-10-07    115.080002\n",
      "2020-10-08    114.970001\n",
      "2020-10-09    116.970001\n",
      "2020-10-12    124.400002\n",
      "2020-10-13    121.099998\n",
      "2020-10-14    121.190002\n",
      "2020-10-15    120.709999\n",
      "2020-10-16    119.019997\n",
      "2020-10-19    115.980003\n",
      "2020-10-20    117.510002\n",
      "2020-10-21    116.870003\n",
      "2020-10-22    115.750000\n",
      "2020-10-23    115.040001\n",
      "2020-10-26    115.050003\n",
      "2020-10-27    116.599998\n",
      "2020-10-28    111.199997\n",
      "2020-10-29    115.320000\n",
      "2020-10-30    108.860001\n",
      "Name: Close, dtype: float64, 'volume': Date\n",
      "2020-10-01    116120400.0\n",
      "2020-10-02    144712000.0\n",
      "2020-10-05    106243800.0\n",
      "2020-10-06    161498200.0\n",
      "2020-10-07     96849000.0\n",
      "2020-10-08     83477200.0\n",
      "2020-10-09    100506900.0\n",
      "2020-10-12    240226800.0\n",
      "2020-10-13    262330500.0\n",
      "2020-10-14    150712000.0\n",
      "2020-10-15    112559200.0\n",
      "2020-10-16    115393800.0\n",
      "2020-10-19    120639300.0\n",
      "2020-10-20    124423700.0\n",
      "2020-10-21     89946000.0\n",
      "2020-10-22    101988000.0\n",
      "2020-10-23     82572600.0\n",
      "2020-10-26    111850700.0\n",
      "2020-10-27     92276800.0\n",
      "2020-10-28    143937800.0\n",
      "2020-10-29    146129200.0\n",
      "2020-10-30    190272600.0\n",
      "Name: Volume, dtype: float64}\n"
     ]
    }
   ],
   "source": [
    "inputs = {\n",
    "    'open': apple_2020_october['Open'],\n",
    "    'high': apple_2020_october['High'],\n",
    "    'low': apple_2020_october['Low'],\n",
    "    'close': apple_2020_october['Close'],\n",
    "    'volume': apple_2020_october['Volume']\n",
    "}\n",
    "print(inputs)"
   ]
  },
  {
   "cell_type": "code",
   "execution_count": 45,
   "id": "96c71298",
   "metadata": {},
   "outputs": [],
   "source": [
    "from talib import abstract"
   ]
  },
  {
   "cell_type": "code",
   "execution_count": 71,
   "id": "64ab75ca",
   "metadata": {},
   "outputs": [],
   "source": [
    "SMA = abstract.SMA"
   ]
  },
  {
   "cell_type": "code",
   "execution_count": 72,
   "id": "551f4974",
   "metadata": {},
   "outputs": [],
   "source": [
    "sma_3 = SMA(inputs, timeperiod=3)"
   ]
  },
  {
   "cell_type": "code",
   "execution_count": 73,
   "id": "a7d2e4ea",
   "metadata": {},
   "outputs": [
    {
     "name": "stdout",
     "output_type": "stream",
     "text": [
      "[         nan          nan 115.43666585 114.22666677 114.91333516\n",
      " 114.40333557 115.67333476 118.78000132 120.82333374 122.23000081\n",
      " 121.         120.30666606 118.56999969 117.50333405 116.78666941\n",
      " 116.71000163 115.88666789 115.28000132 115.56333415 114.28333282\n",
      " 114.37333171 111.79333242]\n"
     ]
    }
   ],
   "source": [
    "print(sma_3)"
   ]
  },
  {
   "cell_type": "code",
   "execution_count": 74,
   "id": "d6899b9a",
   "metadata": {},
   "outputs": [],
   "source": [
    "two_crows_pattern = abstract.CDL2CROWS"
   ]
  },
  {
   "cell_type": "code",
   "execution_count": 75,
   "id": "a04bc972",
   "metadata": {},
   "outputs": [],
   "source": [
    "example = HUMMER(inputs)"
   ]
  },
  {
   "cell_type": "code",
   "execution_count": 77,
   "id": "52e0825f",
   "metadata": {},
   "outputs": [
    {
     "name": "stdout",
     "output_type": "stream",
     "text": [
      "[0 0 0 0 0 0 0 0 0 0 0 0 0 0 0 0 0 0 0 0 0 0]\n"
     ]
    }
   ],
   "source": [
    "print(example)"
   ]
  },
  {
   "cell_type": "code",
   "execution_count": null,
   "id": "15689d17",
   "metadata": {},
   "outputs": [],
   "source": []
  }
 ],
 "metadata": {
  "kernelspec": {
   "display_name": "Python 3",
   "language": "python",
   "name": "python3"
  },
  "language_info": {
   "codemirror_mode": {
    "name": "ipython",
    "version": 3
   },
   "file_extension": ".py",
   "mimetype": "text/x-python",
   "name": "python",
   "nbconvert_exporter": "python",
   "pygments_lexer": "ipython3",
   "version": "3.8.8"
  }
 },
 "nbformat": 4,
 "nbformat_minor": 5
}
